{
 "cells": [
  {
   "cell_type": "markdown",
   "metadata": {},
   "source": [
    "# Getting Started"
   ]
  },
  {
   "cell_type": "markdown",
   "metadata": {},
   "source": [
    "## Julia Basics"
   ]
  },
  {
   "cell_type": "code",
   "execution_count": 3,
   "metadata": {
    "scrolled": true
   },
   "outputs": [
    {
     "name": "stdout",
     "output_type": "stream",
     "text": [
      "Ohai Julia\n"
     ]
    }
   ],
   "source": [
    "println(\"Ohai Julia\")"
   ]
  },
  {
   "cell_type": "markdown",
   "metadata": {},
   "source": [
    "The repository is https://github.com/elizavetasemenova/EmbracingUncertainty "
   ]
  },
  {
   "cell_type": "markdown",
   "metadata": {},
   "source": [
    "Idea: Not as a General Purpose Programming Language, but instead to augment them a bit. You can call R and Python from Julia directly."
   ]
  },
  {
   "cell_type": "markdown",
   "metadata": {},
   "source": [
    "[Come for the Syntax, stay for the speed](https://www.nature.com/articles/d41586-019-02310-3)"
   ]
  },
  {
   "cell_type": "code",
   "execution_count": 4,
   "metadata": {},
   "outputs": [
    {
     "data": {
      "text/plain": [
       "0.7000000000000002"
      ]
     },
     "execution_count": 4,
     "metadata": {},
     "output_type": "execute_result"
    }
   ],
   "source": [
    "3 - 2.3"
   ]
  },
  {
   "cell_type": "markdown",
   "metadata": {},
   "source": [
    "It's still doubles"
   ]
  },
  {
   "cell_type": "code",
   "execution_count": 5,
   "metadata": {},
   "outputs": [
    {
     "name": "stdout",
     "output_type": "stream",
     "text": [
      "Takes multiple args of different types 3.142857142857143\n"
     ]
    }
   ],
   "source": [
    "println(\"Takes multiple args of different types \", 22 / 7)"
   ]
  },
  {
   "cell_type": "code",
   "execution_count": 6,
   "metadata": {},
   "outputs": [
    {
     "data": {
      "text/plain": [
       "3"
      ]
     },
     "execution_count": 6,
     "metadata": {},
     "output_type": "execute_result"
    }
   ],
   "source": [
    "22 ÷ 7"
   ]
  },
  {
   "cell_type": "markdown",
   "metadata": {},
   "source": [
    "Integer divide"
   ]
  },
  {
   "cell_type": "code",
   "execution_count": 7,
   "metadata": {},
   "outputs": [
    {
     "data": {
      "text/plain": [
       "3.142857142857143"
      ]
     },
     "execution_count": 7,
     "metadata": {},
     "output_type": "execute_result"
    }
   ],
   "source": [
    "7 \\ 22"
   ]
  },
  {
   "cell_type": "markdown",
   "metadata": {},
   "source": [
    "Inverse divide - useful to type out your formulas."
   ]
  },
  {
   "cell_type": "code",
   "execution_count": 8,
   "metadata": {},
   "outputs": [
    {
     "data": {
      "text/plain": [
       "3"
      ]
     },
     "execution_count": 8,
     "metadata": {},
     "output_type": "execute_result"
    }
   ],
   "source": [
    "div(22, 7)"
   ]
  },
  {
   "cell_type": "markdown",
   "metadata": {},
   "source": [
    "You can use backslash - character to type your symbols ( \\theta below for example )"
   ]
  },
  {
   "cell_type": "code",
   "execution_count": 9,
   "metadata": {},
   "outputs": [
    {
     "ename": "UndefVarError",
     "evalue": "UndefVarError: θ not defined",
     "output_type": "error",
     "traceback": [
      "UndefVarError: θ not defined",
      "",
      "Stacktrace:",
      " [1] top-level scope at In[9]:1"
     ]
    }
   ],
   "source": [
    "θ"
   ]
  },
  {
   "cell_type": "markdown",
   "metadata": {},
   "source": [
    "You can omit the multiplication sign"
   ]
  },
  {
   "cell_type": "code",
   "execution_count": 11,
   "metadata": {},
   "outputs": [
    {
     "data": {
      "text/plain": [
       "3"
      ]
     },
     "execution_count": 11,
     "metadata": {},
     "output_type": "execute_result"
    }
   ],
   "source": [
    "x = 3"
   ]
  },
  {
   "cell_type": "code",
   "execution_count": 12,
   "metadata": {},
   "outputs": [
    {
     "data": {
      "text/plain": [
       "12"
      ]
     },
     "execution_count": 12,
     "metadata": {},
     "output_type": "execute_result"
    }
   ],
   "source": [
    "4x"
   ]
  },
  {
   "cell_type": "code",
   "execution_count": 13,
   "metadata": {},
   "outputs": [
    {
     "data": {
      "text/plain": [
       "Float64"
      ]
     },
     "execution_count": 13,
     "metadata": {},
     "output_type": "execute_result"
    }
   ],
   "source": [
    "typeof(3.14)"
   ]
  },
  {
   "cell_type": "code",
   "execution_count": 14,
   "metadata": {},
   "outputs": [
    {
     "data": {
      "text/plain": [
       "String"
      ]
     },
     "execution_count": 14,
     "metadata": {},
     "output_type": "execute_result"
    }
   ],
   "source": [
    "typeof(\"LäLä\")"
   ]
  },
  {
   "cell_type": "code",
   "execution_count": 15,
   "metadata": {},
   "outputs": [
    {
     "data": {
      "text/plain": [
       "String"
      ]
     },
     "execution_count": 15,
     "metadata": {},
     "output_type": "execute_result"
    }
   ],
   "source": [
    "typeof(\"θ\")"
   ]
  },
  {
   "cell_type": "code",
   "execution_count": 16,
   "metadata": {},
   "outputs": [
    {
     "data": {
      "text/plain": [
       "3-element Array{Float64,1}:\n",
       " 1.390671161567e-309  \n",
       " 6.93128705160897e-310\n",
       " 0.0                  "
      ]
     },
     "execution_count": 16,
     "metadata": {},
     "output_type": "execute_result"
    }
   ],
   "source": [
    "arr = Array{Float64}(undef, 3)"
   ]
  },
  {
   "cell_type": "code",
   "execution_count": 17,
   "metadata": {},
   "outputs": [
    {
     "data": {
      "text/plain": [
       "11×12 Array{Float64,2}:\n",
       " 6.93145e-310  6.93145e-310  6.93145e-310  …  6.93145e-310  6.93145e-310\n",
       " 6.93145e-310  6.93145e-310  6.93145e-310     6.93145e-310  6.93145e-310\n",
       " 6.93145e-310  6.93145e-310  6.93145e-310     6.93145e-310  6.93145e-310\n",
       " 6.93145e-310  6.93145e-310  6.93145e-310     6.93145e-310  6.93145e-310\n",
       " 6.93145e-310  6.93145e-310  6.93145e-310     6.93145e-310  6.93145e-310\n",
       " 6.93145e-310  6.93145e-310  6.93145e-310  …  6.93145e-310  6.93145e-310\n",
       " 6.93145e-310  6.93145e-310  6.93145e-310     6.93145e-310  6.93145e-310\n",
       " 6.93145e-310  6.93145e-310  6.93145e-310     6.93145e-310  0.0         \n",
       " 6.93145e-310  6.93145e-310  6.93145e-310     6.93145e-310  0.0         \n",
       " 6.93145e-310  6.93145e-310  6.93145e-310     6.93145e-310  0.0         \n",
       " 6.93145e-310  6.93145e-310  6.93145e-310  …  6.93145e-310  0.0         "
      ]
     },
     "execution_count": 17,
     "metadata": {},
     "output_type": "execute_result"
    }
   ],
   "source": [
    "x = Array{Float64}(undef, 11, 12)"
   ]
  },
  {
   "cell_type": "markdown",
   "metadata": {},
   "source": [
    "Julia has multiple dispatch by types and...?"
   ]
  },
  {
   "cell_type": "code",
   "execution_count": 18,
   "metadata": {},
   "outputs": [
    {
     "data": {
      "text/plain": [
       "myfunc (generic function with 1 method)"
      ]
     },
     "execution_count": 18,
     "metadata": {},
     "output_type": "execute_result"
    }
   ],
   "source": [
    "myfunc(x) = 20 * x"
   ]
  },
  {
   "cell_type": "code",
   "execution_count": 19,
   "metadata": {},
   "outputs": [
    {
     "data": {
      "text/plain": [
       "60"
      ]
     },
     "execution_count": 19,
     "metadata": {},
     "output_type": "execute_result"
    }
   ],
   "source": [
    "myfunc(3)"
   ]
  },
  {
   "cell_type": "code",
   "execution_count": 20,
   "metadata": {},
   "outputs": [
    {
     "data": {
      "text/plain": [
       "nextfunc (generic function with 1 method)"
      ]
     },
     "execution_count": 20,
     "metadata": {},
     "output_type": "execute_result"
    }
   ],
   "source": [
    "function nextfunc(a, b, c)\n",
    "    a * b + c\n",
    "end"
   ]
  },
  {
   "cell_type": "code",
   "execution_count": 21,
   "metadata": {},
   "outputs": [
    {
     "data": {
      "text/plain": [
       "10"
      ]
     },
     "execution_count": 21,
     "metadata": {},
     "output_type": "execute_result"
    }
   ],
   "source": [
    "nextfunc(2,3,4)"
   ]
  },
  {
   "cell_type": "code",
   "execution_count": 22,
   "metadata": {},
   "outputs": [
    {
     "data": {
      "text/plain": [
       "2-element Array{Any,1}:\n",
       "  '1'\n",
       " 2.0 "
      ]
     },
     "execution_count": 22,
     "metadata": {},
     "output_type": "execute_result"
    }
   ],
   "source": [
    "a = ['1', 2.]"
   ]
  },
  {
   "cell_type": "code",
   "execution_count": 23,
   "metadata": {},
   "outputs": [
    {
     "data": {
      "text/plain": [
       "Array{Any,1}"
      ]
     },
     "execution_count": 23,
     "metadata": {},
     "output_type": "execute_result"
    }
   ],
   "source": [
    "typeof(a)"
   ]
  },
  {
   "cell_type": "code",
   "execution_count": 28,
   "metadata": {},
   "outputs": [
    {
     "data": {
      "text/plain": [
       "cos_func (generic function with 2 methods)"
      ]
     },
     "execution_count": 28,
     "metadata": {},
     "output_type": "execute_result"
    }
   ],
   "source": [
    "cos_func(x) = cos(x)"
   ]
  },
  {
   "cell_type": "code",
   "execution_count": 26,
   "metadata": {},
   "outputs": [
    {
     "data": {
      "text/plain": [
       "cos_func (generic function with 2 methods)"
      ]
     },
     "execution_count": 26,
     "metadata": {},
     "output_type": "execute_result"
    }
   ],
   "source": [
    "cos_func(adj, hyp) = cos(adj/hyp)"
   ]
  },
  {
   "cell_type": "code",
   "execution_count": 29,
   "metadata": {},
   "outputs": [
    {
     "data": {
      "text/plain": [
       "-0.9899924966004454"
      ]
     },
     "execution_count": 29,
     "metadata": {},
     "output_type": "execute_result"
    }
   ],
   "source": [
    "cos_func(3)"
   ]
  },
  {
   "cell_type": "markdown",
   "metadata": {},
   "source": [
    "That is more or less what we need as basics"
   ]
  },
  {
   "cell_type": "code",
   "execution_count": 30,
   "metadata": {},
   "outputs": [
    {
     "data": {
      "text/plain": [
       "8-element Array{Int64,1}:\n",
       " 1\n",
       " 2\n",
       " 3\n",
       " 4\n",
       " 5\n",
       " 6\n",
       " 7\n",
       " 8"
      ]
     },
     "execution_count": 30,
     "metadata": {},
     "output_type": "execute_result"
    }
   ],
   "source": [
    "x = [1,2,3,4,5,6,7,8]"
   ]
  },
  {
   "cell_type": "code",
   "execution_count": 31,
   "metadata": {},
   "outputs": [
    {
     "data": {
      "text/plain": [
       "8"
      ]
     },
     "execution_count": 31,
     "metadata": {},
     "output_type": "execute_result"
    }
   ],
   "source": [
    "length(x)"
   ]
  },
  {
   "cell_type": "code",
   "execution_count": 32,
   "metadata": {},
   "outputs": [
    {
     "data": {
      "text/plain": [
       "(8,)"
      ]
     },
     "execution_count": 32,
     "metadata": {},
     "output_type": "execute_result"
    }
   ],
   "source": [
    "size(x)"
   ]
  },
  {
   "cell_type": "code",
   "execution_count": 33,
   "metadata": {},
   "outputs": [
    {
     "data": {
      "text/plain": [
       "1:7"
      ]
     },
     "execution_count": 33,
     "metadata": {},
     "output_type": "execute_result"
    }
   ],
   "source": [
    "1:7"
   ]
  },
  {
   "cell_type": "code",
   "execution_count": 34,
   "metadata": {},
   "outputs": [
    {
     "data": {
      "text/plain": [
       "7-element Array{Int64,1}:\n",
       " 1\n",
       " 2\n",
       " 3\n",
       " 4\n",
       " 5\n",
       " 6\n",
       " 7"
      ]
     },
     "execution_count": 34,
     "metadata": {},
     "output_type": "execute_result"
    }
   ],
   "source": [
    "collect(1:7)"
   ]
  },
  {
   "cell_type": "code",
   "execution_count": 35,
   "metadata": {},
   "outputs": [
    {
     "data": {
      "text/plain": [
       "0.0:0.1111111111111111:1.0"
      ]
     },
     "execution_count": 35,
     "metadata": {},
     "output_type": "execute_result"
    }
   ],
   "source": [
    "range(0, stop = 1, length = 10)"
   ]
  },
  {
   "cell_type": "code",
   "execution_count": 36,
   "metadata": {},
   "outputs": [
    {
     "data": {
      "text/plain": [
       "10-element Array{Float64,1}:\n",
       " 0.0               \n",
       " 0.1111111111111111\n",
       " 0.2222222222222222\n",
       " 0.3333333333333333\n",
       " 0.4444444444444444\n",
       " 0.5555555555555556\n",
       " 0.6666666666666666\n",
       " 0.7777777777777778\n",
       " 0.8888888888888888\n",
       " 1.0               "
      ]
     },
     "execution_count": 36,
     "metadata": {},
     "output_type": "execute_result"
    }
   ],
   "source": [
    "collect(range(0, stop = 1, length = 10))"
   ]
  },
  {
   "cell_type": "code",
   "execution_count": 37,
   "metadata": {},
   "outputs": [
    {
     "data": {
      "text/plain": [
       "4-element Array{Int64,1}:\n",
       " 1\n",
       " 2\n",
       " 3\n",
       " 4"
      ]
     },
     "execution_count": 37,
     "metadata": {},
     "output_type": "execute_result"
    }
   ],
   "source": [
    "x = [1,2,3,4]"
   ]
  },
  {
   "cell_type": "code",
   "execution_count": 38,
   "metadata": {},
   "outputs": [
    {
     "data": {
      "text/plain": [
       "4-element Array{Int64,1}:\n",
       " 2\n",
       " 4\n",
       " 6\n",
       " 8"
      ]
     },
     "execution_count": 38,
     "metadata": {},
     "output_type": "execute_result"
    }
   ],
   "source": [
    "x * 2"
   ]
  },
  {
   "cell_type": "code",
   "execution_count": 39,
   "metadata": {},
   "outputs": [
    {
     "data": {
      "text/plain": [
       "4-element Array{Int64,1}:\n",
       " 2\n",
       " 4\n",
       " 6\n",
       " 8"
      ]
     },
     "execution_count": 39,
     "metadata": {},
     "output_type": "execute_result"
    }
   ],
   "source": [
    "2 * x"
   ]
  },
  {
   "cell_type": "code",
   "execution_count": 40,
   "metadata": {},
   "outputs": [
    {
     "ename": "MethodError",
     "evalue": "MethodError: no method matching +(::Array{Int64,1}, ::Int64)\nClosest candidates are:\n  +(::Any, ::Any, !Matched::Any, !Matched::Any...) at operators.jl:529\n  +(!Matched::Complex{Bool}, ::Real) at complex.jl:293\n  +(!Matched::Missing, ::Number) at missing.jl:94\n  ...",
     "output_type": "error",
     "traceback": [
      "MethodError: no method matching +(::Array{Int64,1}, ::Int64)\nClosest candidates are:\n  +(::Any, ::Any, !Matched::Any, !Matched::Any...) at operators.jl:529\n  +(!Matched::Complex{Bool}, ::Real) at complex.jl:293\n  +(!Matched::Missing, ::Number) at missing.jl:94\n  ...",
      "",
      "Stacktrace:",
      " [1] top-level scope at In[40]:1"
     ]
    }
   ],
   "source": [
    "x + 1"
   ]
  },
  {
   "cell_type": "code",
   "execution_count": 41,
   "metadata": {},
   "outputs": [
    {
     "data": {
      "text/plain": [
       "4-element Array{Int64,1}:\n",
       " 2\n",
       " 3\n",
       " 4\n",
       " 5"
      ]
     },
     "execution_count": 41,
     "metadata": {},
     "output_type": "execute_result"
    }
   ],
   "source": [
    "x .+ 1"
   ]
  },
  {
   "cell_type": "code",
   "execution_count": 42,
   "metadata": {},
   "outputs": [
    {
     "data": {
      "text/plain": [
       "4-element Array{Int64,1}:\n",
       "  1\n",
       "  4\n",
       "  9\n",
       " 16"
      ]
     },
     "execution_count": 42,
     "metadata": {},
     "output_type": "execute_result"
    }
   ],
   "source": [
    "x .* x"
   ]
  },
  {
   "cell_type": "code",
   "execution_count": 43,
   "metadata": {},
   "outputs": [
    {
     "data": {
      "text/plain": [
       "5×2 Array{Float64,2}:\n",
       " 1.68005   -1.6417  \n",
       " 0.501309  -0.977698\n",
       " 1.52801    0.527711\n",
       " 1.70012    1.71152 \n",
       " 1.99249    1.891   "
      ]
     },
     "execution_count": 43,
     "metadata": {},
     "output_type": "execute_result"
    }
   ],
   "source": [
    "data = [1.6800483  -1.641695388; \n",
    "        0.501309281 -0.977697538; \n",
    "        1.528012113 0.52771122;\n",
    "        1.70012253 1.711524991; \n",
    "        1.992493625 1.891000015]"
   ]
  },
  {
   "cell_type": "code",
   "execution_count": 44,
   "metadata": {},
   "outputs": [
    {
     "data": {
      "text/plain": [
       "Array{Float64,2}"
      ]
     },
     "execution_count": 44,
     "metadata": {},
     "output_type": "execute_result"
    }
   ],
   "source": [
    "typeof(data)"
   ]
  },
  {
   "cell_type": "code",
   "execution_count": 45,
   "metadata": {},
   "outputs": [
    {
     "data": {
      "text/plain": [
       "(5, 2)"
      ]
     },
     "execution_count": 45,
     "metadata": {},
     "output_type": "execute_result"
    }
   ],
   "source": [
    "size(data)"
   ]
  },
  {
   "cell_type": "code",
   "execution_count": 46,
   "metadata": {},
   "outputs": [
    {
     "data": {
      "text/plain": [
       "5-element Array{Float64,1}:\n",
       " 1.6800483  \n",
       " 0.501309281\n",
       " 1.528012113\n",
       " 1.70012253 \n",
       " 1.992493625"
      ]
     },
     "execution_count": 46,
     "metadata": {},
     "output_type": "execute_result"
    }
   ],
   "source": [
    "data[:,1]"
   ]
  },
  {
   "cell_type": "markdown",
   "metadata": {},
   "source": [
    "One-indexed"
   ]
  },
  {
   "cell_type": "code",
   "execution_count": 48,
   "metadata": {},
   "outputs": [
    {
     "data": {
      "text/plain": [
       "5-element Array{Float64,1}:\n",
       " -1.641695388\n",
       " -0.977697538\n",
       "  0.52771122 \n",
       "  1.711524991\n",
       "  1.891000015"
      ]
     },
     "execution_count": 48,
     "metadata": {},
     "output_type": "execute_result"
    }
   ],
   "source": [
    "data[:,2]"
   ]
  },
  {
   "cell_type": "code",
   "execution_count": 49,
   "metadata": {},
   "outputs": [
    {
     "name": "stdout",
     "output_type": "stream",
     "text": [
      "first element\n",
      "θ\n",
      "42\n"
     ]
    }
   ],
   "source": [
    "values = [\"first element\", 'θ', 42]\n",
    "for x in values\n",
    "    println(x)\n",
    "end"
   ]
  },
  {
   "cell_type": "code",
   "execution_count": 50,
   "metadata": {},
   "outputs": [
    {
     "name": "stdout",
     "output_type": "stream",
     "text": [
      "Yup\n"
     ]
    }
   ],
   "source": [
    "if 3 < 5\n",
    "    println(\"Yup\")\n",
    "end"
   ]
  },
  {
   "cell_type": "code",
   "execution_count": 55,
   "metadata": {},
   "outputs": [
    {
     "data": {
      "text/plain": [
       "201-element Array{Float64,1}:\n",
       " -0.8390715290764524\n",
       " -0.8891911526253609\n",
       " -0.9304262721047533\n",
       " -0.9623648798313102\n",
       " -0.984687855794127 \n",
       " -0.9971721561963784\n",
       " -0.9996930420352065\n",
       " -0.9922253254526034\n",
       " -0.9748436214041636\n",
       " -0.9477216021311119\n",
       " -0.9111302618846769\n",
       " -0.8654352092411123\n",
       " -0.811093014061656 \n",
       "  ⋮                 \n",
       " -0.8654352092411123\n",
       " -0.9111302618846769\n",
       " -0.9477216021311119\n",
       " -0.9748436214041636\n",
       " -0.9922253254526034\n",
       " -0.9996930420352065\n",
       " -0.9971721561963784\n",
       " -0.984687855794127 \n",
       " -0.9623648798313102\n",
       " -0.9304262721047533\n",
       " -0.8891911526253609\n",
       " -0.8390715290764524"
      ]
     },
     "execution_count": 55,
     "metadata": {},
     "output_type": "execute_result"
    }
   ],
   "source": [
    "x = cos.( - 10:0.1:10)"
   ]
  },
  {
   "cell_type": "code",
   "execution_count": 57,
   "metadata": {},
   "outputs": [
    {
     "name": "stderr",
     "output_type": "stream",
     "text": [
      "┌ Info: Precompiling Plots [91a5bcdd-55d7-5caf-9e0b-520d859cae80]\n",
      "└ @ Base loading.jl:1242\n"
     ]
    }
   ],
   "source": [
    "using Plots"
   ]
  },
  {
   "cell_type": "code",
   "execution_count": 59,
   "metadata": {},
   "outputs": [
    {
     "data": {
      "image/svg+xml": [
       "<?xml version=\"1.0\" encoding=\"utf-8\"?>\n",
       "<svg xmlns=\"http://www.w3.org/2000/svg\" xmlns:xlink=\"http://www.w3.org/1999/xlink\" width=\"600\" height=\"400\" viewBox=\"0 0 2400 1600\">\n",
       "<defs>\n",
       "  <clipPath id=\"clip9800\">\n",
       "    <rect x=\"0\" y=\"0\" width=\"2400\" height=\"1600\"/>\n",
       "  </clipPath>\n",
       "</defs>\n",
       "<path clip-path=\"url(#clip9800)\" d=\"\n",
       "M0 1600 L2400 1600 L2400 0 L0 0  Z\n",
       "  \" fill=\"#ffffff\" fill-rule=\"evenodd\" fill-opacity=\"1\"/>\n",
       "<defs>\n",
       "  <clipPath id=\"clip9801\">\n",
       "    <rect x=\"480\" y=\"0\" width=\"1681\" height=\"1600\"/>\n",
       "  </clipPath>\n",
       "</defs>\n",
       "<path clip-path=\"url(#clip9800)\" d=\"\n",
       "M182.008 1487.47 L2352.76 1487.47 L2352.76 47.2441 L182.008 47.2441  Z\n",
       "  \" fill=\"#ffffff\" fill-rule=\"evenodd\" fill-opacity=\"1\"/>\n",
       "<defs>\n",
       "  <clipPath id=\"clip9802\">\n",
       "    <rect x=\"182\" y=\"47\" width=\"2172\" height=\"1441\"/>\n",
       "  </clipPath>\n",
       "</defs>\n",
       "<polyline clip-path=\"url(#clip9802)\" style=\"stroke:#000000; stroke-width:2; stroke-opacity:0.1; fill:none\" points=\"\n",
       "  233.205,1487.47 233.205,47.2441 \n",
       "  \"/>\n",
       "<polyline clip-path=\"url(#clip9802)\" style=\"stroke:#000000; stroke-width:2; stroke-opacity:0.1; fill:none\" points=\"\n",
       "  745.174,1487.47 745.174,47.2441 \n",
       "  \"/>\n",
       "<polyline clip-path=\"url(#clip9802)\" style=\"stroke:#000000; stroke-width:2; stroke-opacity:0.1; fill:none\" points=\"\n",
       "  1257.14,1487.47 1257.14,47.2441 \n",
       "  \"/>\n",
       "<polyline clip-path=\"url(#clip9802)\" style=\"stroke:#000000; stroke-width:2; stroke-opacity:0.1; fill:none\" points=\"\n",
       "  1769.11,1487.47 1769.11,47.2441 \n",
       "  \"/>\n",
       "<polyline clip-path=\"url(#clip9802)\" style=\"stroke:#000000; stroke-width:2; stroke-opacity:0.1; fill:none\" points=\"\n",
       "  2281.08,1487.47 2281.08,47.2441 \n",
       "  \"/>\n",
       "<polyline clip-path=\"url(#clip9802)\" style=\"stroke:#000000; stroke-width:2; stroke-opacity:0.1; fill:none\" points=\"\n",
       "  182.008,1446.92 2352.76,1446.92 \n",
       "  \"/>\n",
       "<polyline clip-path=\"url(#clip9802)\" style=\"stroke:#000000; stroke-width:2; stroke-opacity:0.1; fill:none\" points=\"\n",
       "  182.008,1107.19 2352.76,1107.19 \n",
       "  \"/>\n",
       "<polyline clip-path=\"url(#clip9802)\" style=\"stroke:#000000; stroke-width:2; stroke-opacity:0.1; fill:none\" points=\"\n",
       "  182.008,767.464 2352.76,767.464 \n",
       "  \"/>\n",
       "<polyline clip-path=\"url(#clip9802)\" style=\"stroke:#000000; stroke-width:2; stroke-opacity:0.1; fill:none\" points=\"\n",
       "  182.008,427.735 2352.76,427.735 \n",
       "  \"/>\n",
       "<polyline clip-path=\"url(#clip9802)\" style=\"stroke:#000000; stroke-width:2; stroke-opacity:0.1; fill:none\" points=\"\n",
       "  182.008,88.0053 2352.76,88.0053 \n",
       "  \"/>\n",
       "<polyline clip-path=\"url(#clip9800)\" style=\"stroke:#000000; stroke-width:4; stroke-opacity:1; fill:none\" points=\"\n",
       "  182.008,1487.47 2352.76,1487.47 \n",
       "  \"/>\n",
       "<polyline clip-path=\"url(#clip9800)\" style=\"stroke:#000000; stroke-width:4; stroke-opacity:1; fill:none\" points=\"\n",
       "  182.008,1487.47 182.008,47.2441 \n",
       "  \"/>\n",
       "<polyline clip-path=\"url(#clip9800)\" style=\"stroke:#000000; stroke-width:4; stroke-opacity:1; fill:none\" points=\"\n",
       "  233.205,1487.47 233.205,1465.87 \n",
       "  \"/>\n",
       "<polyline clip-path=\"url(#clip9800)\" style=\"stroke:#000000; stroke-width:4; stroke-opacity:1; fill:none\" points=\"\n",
       "  745.174,1487.47 745.174,1465.87 \n",
       "  \"/>\n",
       "<polyline clip-path=\"url(#clip9800)\" style=\"stroke:#000000; stroke-width:4; stroke-opacity:1; fill:none\" points=\"\n",
       "  1257.14,1487.47 1257.14,1465.87 \n",
       "  \"/>\n",
       "<polyline clip-path=\"url(#clip9800)\" style=\"stroke:#000000; stroke-width:4; stroke-opacity:1; fill:none\" points=\"\n",
       "  1769.11,1487.47 1769.11,1465.87 \n",
       "  \"/>\n",
       "<polyline clip-path=\"url(#clip9800)\" style=\"stroke:#000000; stroke-width:4; stroke-opacity:1; fill:none\" points=\"\n",
       "  2281.08,1487.47 2281.08,1465.87 \n",
       "  \"/>\n",
       "<polyline clip-path=\"url(#clip9800)\" style=\"stroke:#000000; stroke-width:4; stroke-opacity:1; fill:none\" points=\"\n",
       "  182.008,1446.92 214.569,1446.92 \n",
       "  \"/>\n",
       "<polyline clip-path=\"url(#clip9800)\" style=\"stroke:#000000; stroke-width:4; stroke-opacity:1; fill:none\" points=\"\n",
       "  182.008,1107.19 214.569,1107.19 \n",
       "  \"/>\n",
       "<polyline clip-path=\"url(#clip9800)\" style=\"stroke:#000000; stroke-width:4; stroke-opacity:1; fill:none\" points=\"\n",
       "  182.008,767.464 214.569,767.464 \n",
       "  \"/>\n",
       "<polyline clip-path=\"url(#clip9800)\" style=\"stroke:#000000; stroke-width:4; stroke-opacity:1; fill:none\" points=\"\n",
       "  182.008,427.735 214.569,427.735 \n",
       "  \"/>\n",
       "<polyline clip-path=\"url(#clip9800)\" style=\"stroke:#000000; stroke-width:4; stroke-opacity:1; fill:none\" points=\"\n",
       "  182.008,88.0053 214.569,88.0053 \n",
       "  \"/>\n",
       "<g clip-path=\"url(#clip9800)\">\n",
       "<text style=\"fill:#000000; fill-opacity:1; font-family:Arial,Helvetica Neue,Helvetica,sans-serif; font-size:48px; text-anchor:middle;\" transform=\"rotate(0, 233.205, 1541.47)\" x=\"233.205\" y=\"1541.47\">0</text>\n",
       "</g>\n",
       "<g clip-path=\"url(#clip9800)\">\n",
       "<text style=\"fill:#000000; fill-opacity:1; font-family:Arial,Helvetica Neue,Helvetica,sans-serif; font-size:48px; text-anchor:middle;\" transform=\"rotate(0, 745.174, 1541.47)\" x=\"745.174\" y=\"1541.47\">50</text>\n",
       "</g>\n",
       "<g clip-path=\"url(#clip9800)\">\n",
       "<text style=\"fill:#000000; fill-opacity:1; font-family:Arial,Helvetica Neue,Helvetica,sans-serif; font-size:48px; text-anchor:middle;\" transform=\"rotate(0, 1257.14, 1541.47)\" x=\"1257.14\" y=\"1541.47\">100</text>\n",
       "</g>\n",
       "<g clip-path=\"url(#clip9800)\">\n",
       "<text style=\"fill:#000000; fill-opacity:1; font-family:Arial,Helvetica Neue,Helvetica,sans-serif; font-size:48px; text-anchor:middle;\" transform=\"rotate(0, 1769.11, 1541.47)\" x=\"1769.11\" y=\"1541.47\">150</text>\n",
       "</g>\n",
       "<g clip-path=\"url(#clip9800)\">\n",
       "<text style=\"fill:#000000; fill-opacity:1; font-family:Arial,Helvetica Neue,Helvetica,sans-serif; font-size:48px; text-anchor:middle;\" transform=\"rotate(0, 2281.08, 1541.47)\" x=\"2281.08\" y=\"1541.47\">200</text>\n",
       "</g>\n",
       "<g clip-path=\"url(#clip9800)\">\n",
       "<text style=\"fill:#000000; fill-opacity:1; font-family:Arial,Helvetica Neue,Helvetica,sans-serif; font-size:48px; text-anchor:end;\" transform=\"rotate(0, 158.008, 1464.42)\" x=\"158.008\" y=\"1464.42\">-1.0</text>\n",
       "</g>\n",
       "<g clip-path=\"url(#clip9800)\">\n",
       "<text style=\"fill:#000000; fill-opacity:1; font-family:Arial,Helvetica Neue,Helvetica,sans-serif; font-size:48px; text-anchor:end;\" transform=\"rotate(0, 158.008, 1124.69)\" x=\"158.008\" y=\"1124.69\">-0.5</text>\n",
       "</g>\n",
       "<g clip-path=\"url(#clip9800)\">\n",
       "<text style=\"fill:#000000; fill-opacity:1; font-family:Arial,Helvetica Neue,Helvetica,sans-serif; font-size:48px; text-anchor:end;\" transform=\"rotate(0, 158.008, 784.964)\" x=\"158.008\" y=\"784.964\">0.0</text>\n",
       "</g>\n",
       "<g clip-path=\"url(#clip9800)\">\n",
       "<text style=\"fill:#000000; fill-opacity:1; font-family:Arial,Helvetica Neue,Helvetica,sans-serif; font-size:48px; text-anchor:end;\" transform=\"rotate(0, 158.008, 445.235)\" x=\"158.008\" y=\"445.235\">0.5</text>\n",
       "</g>\n",
       "<g clip-path=\"url(#clip9800)\">\n",
       "<text style=\"fill:#000000; fill-opacity:1; font-family:Arial,Helvetica Neue,Helvetica,sans-serif; font-size:48px; text-anchor:end;\" transform=\"rotate(0, 158.008, 105.505)\" x=\"158.008\" y=\"105.505\">1.0</text>\n",
       "</g>\n",
       "<polyline clip-path=\"url(#clip9802)\" style=\"stroke:#009af9; stroke-width:4; stroke-opacity:1; fill:none\" points=\"\n",
       "  243.444,1337.58 253.684,1371.63 263.923,1399.65 274.162,1421.35 284.402,1436.52 294.641,1445 304.881,1446.71 315.12,1441.64 325.359,1429.83 335.599,1411.4 \n",
       "  345.838,1386.54 356.077,1355.49 366.317,1318.57 376.556,1276.14 386.796,1228.63 397.035,1176.51 407.274,1120.3 417.514,1060.57 427.753,997.905 437.992,932.942 \n",
       "  448.232,866.325 458.471,798.72 468.711,730.803 478.95,663.253 489.189,596.743 499.429,531.939 509.668,469.489 519.907,410.016 530.147,354.114 540.386,302.343 \n",
       "  550.626,255.219 560.865,213.212 571.104,176.744 581.344,146.178 591.583,121.82 601.823,103.913 612.062,92.6359 622.301,88.1014 632.541,90.3548 642.78,99.3737 \n",
       "  653.019,115.068 663.259,137.281 673.498,165.79 683.738,200.311 693.977,240.499 704.216,285.952 714.456,336.216 724.695,390.789 734.934,449.126 745.174,510.644 \n",
       "  755.413,574.727 765.653,640.736 775.892,708.012 786.131,775.881 796.371,843.667 806.61,910.691 816.849,976.284 827.089,1039.79 837.328,1100.58 847.568,1158.03 \n",
       "  857.807,1211.59 868.046,1260.7 878.286,1304.89 888.525,1343.71 898.764,1376.77 909.004,1403.75 919.243,1424.36 929.483,1438.42 939.722,1445.76 949.961,1446.33 \n",
       "  960.201,1440.12 970.44,1427.19 980.679,1407.66 990.919,1381.74 1001.16,1349.68 1011.4,1311.81 1021.64,1268.49 1031.88,1220.17 1042.12,1167.33 1052.36,1110.49 \n",
       "  1062.59,1050.22 1072.83,987.125 1083.07,921.838 1093.31,855.008 1103.55,787.304 1113.79,719.401 1124.03,651.978 1134.27,585.709 1144.51,521.257 1154.75,459.264 \n",
       "  1164.99,400.351 1175.23,345.106 1185.47,294.08 1195.71,247.785 1205.95,206.683 1216.19,171.183 1226.42,141.641 1236.66,118.352 1246.9,101.549 1257.14,91.3998 \n",
       "  1267.38,88.0053 1277.62,91.3998 1287.86,101.549 1298.1,118.352 1308.34,141.641 1318.58,171.183 1328.82,206.683 1339.06,247.785 1349.3,294.08 1359.54,345.106 \n",
       "  1369.78,400.351 1380.02,459.264 1390.25,521.257 1400.49,585.709 1410.73,651.978 1420.97,719.401 1431.21,787.304 1441.45,855.008 1451.69,921.838 1461.93,987.125 \n",
       "  1472.17,1050.22 1482.41,1110.49 1492.65,1167.33 1502.89,1220.17 1513.13,1268.49 1523.37,1311.81 1533.61,1349.68 1543.85,1381.74 1554.08,1407.66 1564.32,1427.19 \n",
       "  1574.56,1440.12 1584.8,1446.33 1595.04,1445.76 1605.28,1438.42 1615.52,1424.36 1625.76,1403.75 1636,1376.77 1646.24,1343.71 1656.48,1304.89 1666.72,1260.7 \n",
       "  1676.96,1211.59 1687.2,1158.03 1697.44,1100.58 1707.68,1039.79 1717.91,976.284 1728.15,910.691 1738.39,843.667 1748.63,775.881 1758.87,708.012 1769.11,640.736 \n",
       "  1779.35,574.727 1789.59,510.644 1799.83,449.126 1810.07,390.789 1820.31,336.216 1830.55,285.952 1840.79,240.499 1851.03,200.311 1861.27,165.79 1871.51,137.281 \n",
       "  1881.74,115.068 1891.98,99.3737 1902.22,90.3548 1912.46,88.1014 1922.7,92.6359 1932.94,103.913 1943.18,121.82 1953.42,146.178 1963.66,176.744 1973.9,213.212 \n",
       "  1984.14,255.219 1994.38,302.343 2004.62,354.114 2014.86,410.016 2025.1,469.489 2035.34,531.939 2045.57,596.743 2055.81,663.253 2066.05,730.803 2076.29,798.72 \n",
       "  2086.53,866.325 2096.77,932.942 2107.01,997.905 2117.25,1060.57 2127.49,1120.3 2137.73,1176.51 2147.97,1228.63 2158.21,1276.14 2168.45,1318.57 2178.69,1355.49 \n",
       "  2188.93,1386.54 2199.17,1411.4 2209.4,1429.83 2219.64,1441.64 2229.88,1446.71 2240.12,1445 2250.36,1436.52 2260.6,1421.35 2270.84,1399.65 2281.08,1371.63 \n",
       "  2291.32,1337.58 \n",
       "  \"/>\n",
       "<path clip-path=\"url(#clip9800)\" d=\"\n",
       "M1989.93 251.724 L2280.76 251.724 L2280.76 130.764 L1989.93 130.764  Z\n",
       "  \" fill=\"#ffffff\" fill-rule=\"evenodd\" fill-opacity=\"1\"/>\n",
       "<polyline clip-path=\"url(#clip9800)\" style=\"stroke:#000000; stroke-width:4; stroke-opacity:1; fill:none\" points=\"\n",
       "  1989.93,251.724 2280.76,251.724 2280.76,130.764 1989.93,130.764 1989.93,251.724 \n",
       "  \"/>\n",
       "<polyline clip-path=\"url(#clip9800)\" style=\"stroke:#009af9; stroke-width:4; stroke-opacity:1; fill:none\" points=\"\n",
       "  2013.93,191.244 2157.93,191.244 \n",
       "  \"/>\n",
       "<g clip-path=\"url(#clip9800)\">\n",
       "<text style=\"fill:#000000; fill-opacity:1; font-family:Arial,Helvetica Neue,Helvetica,sans-serif; font-size:48px; text-anchor:start;\" transform=\"rotate(0, 2181.93, 208.744)\" x=\"2181.93\" y=\"208.744\">y1</text>\n",
       "</g>\n",
       "</svg>\n"
      ]
     },
     "execution_count": 59,
     "metadata": {},
     "output_type": "execute_result"
    }
   ],
   "source": [
    "plot(x)"
   ]
  },
  {
   "cell_type": "code",
   "execution_count": 61,
   "metadata": {},
   "outputs": [
    {
     "name": "stderr",
     "output_type": "stream",
     "text": [
      "┌ Info: Precompiling Distributions [31c24e10-a181-5473-b8eb-7969acd0382f]\n",
      "└ @ Base loading.jl:1242\n"
     ]
    }
   ],
   "source": [
    "using Distributions"
   ]
  },
  {
   "cell_type": "code",
   "execution_count": 63,
   "metadata": {},
   "outputs": [
    {
     "data": {
      "text/plain": [
       "3×2 Array{Float64,2}:\n",
       " 0.510948  0.436757\n",
       " 0.734146  0.843898\n",
       " 0.174722  0.000591"
      ]
     },
     "execution_count": 63,
     "metadata": {},
     "output_type": "execute_result"
    }
   ],
   "source": [
    "shape = (3,2)\n",
    "rand(Uniform(0,1), shape)"
   ]
  },
  {
   "cell_type": "markdown",
   "metadata": {},
   "source": [
    "https://julialang.org/learning/\n",
    "https://exercism.io/tracks/julia\n",
    "https://juliabox.com\n"
   ]
  },
  {
   "cell_type": "code",
   "execution_count": 64,
   "metadata": {},
   "outputs": [
    {
     "name": "stderr",
     "output_type": "stream",
     "text": [
      "┌ Info: Precompiling Turing [fce5fe82-541a-59a6-adf8-730c64b5f9a0]\n",
      "└ @ Base loading.jl:1242\n"
     ]
    },
    {
     "name": "stdout",
     "output_type": "stream",
     "text": [
      "  Building Libtask → `/opt/julia/packages/Libtask/RjRkK/deps/build.log`\n"
     ]
    },
    {
     "name": "stderr",
     "output_type": "stream",
     "text": [
      "WARNING: Method definition *(LinearAlgebra.Adjoint{T, #s89} where #s89<:AbstractArray{T, 2} where T, Tracker.TrackedArray{T, 1, A} where A where T) in module Tracker at /opt/julia/packages/Tracker/cpxco/src/lib/array.jl:412 overwritten in module Core at /opt/julia/packages/Turing/eIa7P/src/core/ad.jl:456.\n",
      "  ** incremental compilation may be fatally broken for this module **\n",
      "\n",
      "WARNING: Method definition getspace(Type{#s362} where #s362<:(Turing.Inference.SMC{space, F} where F)) where {space} in module Inference at /opt/julia/packages/Turing/eIa7P/src/inference/Inference.jl:92 overwritten at /opt/julia/packages/Turing/eIa7P/src/inference/Inference.jl:93.\n",
      "  ** incremental compilation may be fatally broken for this module **\n",
      "\n",
      "WARNING: Method definition getspace(Type{#s362} where #s362<:(Turing.Inference.PG{space, F} where F)) where {space} in module Inference at /opt/julia/packages/Turing/eIa7P/src/inference/Inference.jl:92 overwritten at /opt/julia/packages/Turing/eIa7P/src/inference/Inference.jl:93.\n",
      "  ** incremental compilation may be fatally broken for this module **\n",
      "\n",
      "WARNING: Method definition getspace(Type{#s362} where #s362<:(Turing.Inference.PMMH{space, A} where A<:Tuple)) where {space} in module Inference at /opt/julia/packages/Turing/eIa7P/src/inference/Inference.jl:92 overwritten at /opt/julia/packages/Turing/eIa7P/src/inference/Inference.jl:93.\n",
      "  ** incremental compilation may be fatally broken for this module **\n",
      "\n",
      "WARNING: Method definition getspace(Type{#s362} where #s362<:(Turing.Inference.IPMCMC{space, F} where F)) where {space} in module Inference at /opt/julia/packages/Turing/eIa7P/src/inference/Inference.jl:92 overwritten at /opt/julia/packages/Turing/eIa7P/src/inference/Inference.jl:93.\n",
      "  ** incremental compilation may be fatally broken for this module **\n",
      "\n",
      "WARNING: Method definition getspace(Type{#s362} where #s362<:Turing.Inference.MH{space}) where {space} in module Inference at /opt/julia/packages/Turing/eIa7P/src/inference/Inference.jl:92 overwritten at /opt/julia/packages/Turing/eIa7P/src/inference/Inference.jl:93.\n",
      "  ** incremental compilation may be fatally broken for this module **\n",
      "\n"
     ]
    }
   ],
   "source": [
    "using Distributions\n",
    "using Plots\n",
    "using StatsBase\n",
    "using Turing"
   ]
  },
  {
   "cell_type": "markdown",
   "metadata": {},
   "source": [
    " Bayesian inference - nothing more than P(A|B) = P(A \\intersect B) / P(B)"
   ]
  },
  {
   "cell_type": "markdown",
   "metadata": {},
   "source": [
    "P(A|B) = P(B|A) * P(A) / P(B)"
   ]
  },
  {
   "cell_type": "markdown",
   "metadata": {},
   "source": [
    "P(flu|temperature) = P(temperature|flu) * P(flu) / P(temperature)"
   ]
  },
  {
   "cell_type": "markdown",
   "metadata": {},
   "source": [
    "Right hand side: 70% * 7% / 10% = 49%"
   ]
  },
  {
   "cell_type": "markdown",
   "metadata": {},
   "source": [
    "Spam example"
   ]
  },
  {
   "cell_type": "markdown",
   "metadata": {},
   "source": [
    "Posterior distribution\n",
    "\n",
    "f(theta | y ) correlates with f(y | theta) f(theta)\n",
    "\n",
    "f(theta) is the prior\n",
    "\n",
    "f(y | theta) is the likelihood\n",
    "\n",
    "We dropped f(y) because we don't care about it\n"
   ]
  },
  {
   "cell_type": "markdown",
   "metadata": {},
   "source": [
    "### We have computers now, so Bayesian inference"
   ]
  },
  {
   "cell_type": "markdown",
   "metadata": {},
   "source": [
    "* Prior knowledge\n",
    "* Flexible in uncertainty modeling\n",
    "* Very flexible model formulation account for the mechanistic knowledge about a system"
   ]
  },
  {
   "cell_type": "markdown",
   "metadata": {},
   "source": [
    "### The rough idea\n",
    "We create samples that we believe wander over the posterior distribution."
   ]
  },
  {
   "cell_type": "code",
   "execution_count": 66,
   "metadata": {},
   "outputs": [
    {
     "data": {
      "text/plain": [
       "0.1640625000000001"
      ]
     },
     "execution_count": 66,
     "metadata": {},
     "output_type": "execute_result"
    }
   ],
   "source": [
    "success = 6\n",
    "tosses = 9\n",
    "\n",
    "# Create a distribution with n = 9 (tosses) and p = 0.5\n",
    "\n",
    "d = Binomial(tosses, 0.5)\n",
    "pdf(d, success)"
   ]
  },
  {
   "cell_type": "code",
   "execution_count": 68,
   "metadata": {},
   "outputs": [
    {
     "data": {
      "text/plain": [
       "100-element Array{Float64,1}:\n",
       " 1.0\n",
       " 1.0\n",
       " 1.0\n",
       " 1.0\n",
       " 1.0\n",
       " 1.0\n",
       " 1.0\n",
       " 1.0\n",
       " 1.0\n",
       " 1.0\n",
       " 1.0\n",
       " 1.0\n",
       " 1.0\n",
       " ⋮  \n",
       " 1.0\n",
       " 1.0\n",
       " 1.0\n",
       " 1.0\n",
       " 1.0\n",
       " 1.0\n",
       " 1.0\n",
       " 1.0\n",
       " 1.0\n",
       " 1.0\n",
       " 1.0\n",
       " 1.0"
      ]
     },
     "execution_count": 68,
     "metadata": {},
     "output_type": "execute_result"
    }
   ],
   "source": [
    "grid_points = 100\n",
    "p_grid = range(0, stop = 1, length = grid_points)\n",
    "\n",
    "likelihood = [pdf(Binomial(tosses, p), success) for p in p_grid]\n",
    "\n",
    "prior = ones(length(p_grid))"
   ]
  },
  {
   "cell_type": "code",
   "execution_count": 69,
   "metadata": {},
   "outputs": [
    {
     "data": {
      "text/plain": [
       "100-element Array{Float64,1}:\n",
       " 0.0                   \n",
       " 8.654475678240112e-11 \n",
       " 5.371031648844559e-9  \n",
       " 5.9306700388237816e-8 \n",
       " 3.229187766433306e-7  \n",
       " 1.1933452849444134e-6 \n",
       " 3.450792795441393e-6  \n",
       " 8.423920446171768e-6  \n",
       " 1.8164633244226886e-5 \n",
       " 3.5624199943288674e-5 \n",
       " 6.482351172144716e-5  \n",
       " 0.00011101116544200101\n",
       " 0.00018080388947109178\n",
       " ⋮                     \n",
       " 0.056837716706304615  \n",
       " 0.04569856623475691   \n",
       " 0.03562419994328876   \n",
       " 0.026735040700166603  \n",
       " 0.019124215056526537  \n",
       " 0.012850321021124291  \n",
       " 0.007929388001202154  \n",
       " 0.004325976345696502  \n",
       " 0.0019433619583217707 \n",
       " 0.0006127494460057403 \n",
       " 8.145523272554033e-5  \n",
       " 0.0                   "
      ]
     },
     "execution_count": 69,
     "metadata": {},
     "output_type": "execute_result"
    }
   ],
   "source": [
    "posterior = likelihood .* prior"
   ]
  },
  {
   "cell_type": "code",
   "execution_count": 70,
   "metadata": {},
   "outputs": [
    {
     "data": {
      "text/plain": [
       "computePosterior (generic function with 1 method)"
      ]
     },
     "execution_count": 70,
     "metadata": {},
     "output_type": "execute_result"
    }
   ],
   "source": [
    "function computePosterior(likelihood, prior)\n",
    "   \n",
    "    # compute product of likelihood and prior\n",
    "    unstd_posterior = likelihood .* prior\n",
    "\n",
    "    # standardize posterior\n",
    "    posterior = unstd_posterior / sum(unstd_posterior)\n",
    "    \n",
    "    p1 = plot(p_grid, prior, title = \"Prior\")\n",
    "    p2 = plot(p_grid, likelihood , title = \"Likelihood\")\n",
    "    p3 = plot(p_grid, posterior, title = \"Posterior\")\n",
    "    \n",
    "    plot(p1, p2, p3, layout=(1, 3), label=\"\")\n",
    "\n",
    "end"
   ]
  },
  {
   "cell_type": "code",
   "execution_count": 71,
   "metadata": {},
   "outputs": [
    {
     "data": {
      "image/svg+xml": [
       "<?xml version=\"1.0\" encoding=\"utf-8\"?>\n",
       "<svg xmlns=\"http://www.w3.org/2000/svg\" xmlns:xlink=\"http://www.w3.org/1999/xlink\" width=\"600\" height=\"400\" viewBox=\"0 0 2400 1600\">\n",
       "<defs>\n",
       "  <clipPath id=\"clip0200\">\n",
       "    <rect x=\"0\" y=\"0\" width=\"2400\" height=\"1600\"/>\n",
       "  </clipPath>\n",
       "</defs>\n",
       "<path clip-path=\"url(#clip0200)\" d=\"\n",
       "M0 1600 L2400 1600 L2400 0 L0 0  Z\n",
       "  \" fill=\"#ffffff\" fill-rule=\"evenodd\" fill-opacity=\"1\"/>\n",
       "<defs>\n",
       "  <clipPath id=\"clip0201\">\n",
       "    <rect x=\"480\" y=\"0\" width=\"1681\" height=\"1600\"/>\n",
       "  </clipPath>\n",
       "</defs>\n",
       "<path clip-path=\"url(#clip0200)\" d=\"\n",
       "M180.66 1487.47 L743.835 1487.47 L743.835 121.675 L180.66 121.675  Z\n",
       "  \" fill=\"#ffffff\" fill-rule=\"evenodd\" fill-opacity=\"1\"/>\n",
       "<defs>\n",
       "  <clipPath id=\"clip0202\">\n",
       "    <rect x=\"180\" y=\"121\" width=\"564\" height=\"1367\"/>\n",
       "  </clipPath>\n",
       "</defs>\n",
       "<polyline clip-path=\"url(#clip0202)\" style=\"stroke:#000000; stroke-width:2; stroke-opacity:0.1; fill:none\" points=\"\n",
       "  196.599,1487.47 196.599,121.675 \n",
       "  \"/>\n",
       "<polyline clip-path=\"url(#clip0202)\" style=\"stroke:#000000; stroke-width:2; stroke-opacity:0.1; fill:none\" points=\"\n",
       "  329.423,1487.47 329.423,121.675 \n",
       "  \"/>\n",
       "<polyline clip-path=\"url(#clip0202)\" style=\"stroke:#000000; stroke-width:2; stroke-opacity:0.1; fill:none\" points=\"\n",
       "  462.248,1487.47 462.248,121.675 \n",
       "  \"/>\n",
       "<polyline clip-path=\"url(#clip0202)\" style=\"stroke:#000000; stroke-width:2; stroke-opacity:0.1; fill:none\" points=\"\n",
       "  595.072,1487.47 595.072,121.675 \n",
       "  \"/>\n",
       "<polyline clip-path=\"url(#clip0202)\" style=\"stroke:#000000; stroke-width:2; stroke-opacity:0.1; fill:none\" points=\"\n",
       "  727.896,1487.47 727.896,121.675 \n",
       "  \"/>\n",
       "<polyline clip-path=\"url(#clip0202)\" style=\"stroke:#000000; stroke-width:2; stroke-opacity:0.1; fill:none\" points=\"\n",
       "  180.66,1448.82 743.835,1448.82 \n",
       "  \"/>\n",
       "<polyline clip-path=\"url(#clip0202)\" style=\"stroke:#000000; stroke-width:2; stroke-opacity:0.1; fill:none\" points=\"\n",
       "  180.66,1126.7 743.835,1126.7 \n",
       "  \"/>\n",
       "<polyline clip-path=\"url(#clip0202)\" style=\"stroke:#000000; stroke-width:2; stroke-opacity:0.1; fill:none\" points=\"\n",
       "  180.66,804.575 743.835,804.575 \n",
       "  \"/>\n",
       "<polyline clip-path=\"url(#clip0202)\" style=\"stroke:#000000; stroke-width:2; stroke-opacity:0.1; fill:none\" points=\"\n",
       "  180.66,482.452 743.835,482.452 \n",
       "  \"/>\n",
       "<polyline clip-path=\"url(#clip0202)\" style=\"stroke:#000000; stroke-width:2; stroke-opacity:0.1; fill:none\" points=\"\n",
       "  180.66,160.33 743.835,160.33 \n",
       "  \"/>\n",
       "<polyline clip-path=\"url(#clip0200)\" style=\"stroke:#000000; stroke-width:4; stroke-opacity:1; fill:none\" points=\"\n",
       "  180.66,1487.47 743.835,1487.47 \n",
       "  \"/>\n",
       "<polyline clip-path=\"url(#clip0200)\" style=\"stroke:#000000; stroke-width:4; stroke-opacity:1; fill:none\" points=\"\n",
       "  180.66,1487.47 180.66,121.675 \n",
       "  \"/>\n",
       "<polyline clip-path=\"url(#clip0200)\" style=\"stroke:#000000; stroke-width:4; stroke-opacity:1; fill:none\" points=\"\n",
       "  196.599,1487.47 196.599,1466.99 \n",
       "  \"/>\n",
       "<polyline clip-path=\"url(#clip0200)\" style=\"stroke:#000000; stroke-width:4; stroke-opacity:1; fill:none\" points=\"\n",
       "  329.423,1487.47 329.423,1466.99 \n",
       "  \"/>\n",
       "<polyline clip-path=\"url(#clip0200)\" style=\"stroke:#000000; stroke-width:4; stroke-opacity:1; fill:none\" points=\"\n",
       "  462.248,1487.47 462.248,1466.99 \n",
       "  \"/>\n",
       "<polyline clip-path=\"url(#clip0200)\" style=\"stroke:#000000; stroke-width:4; stroke-opacity:1; fill:none\" points=\"\n",
       "  595.072,1487.47 595.072,1466.99 \n",
       "  \"/>\n",
       "<polyline clip-path=\"url(#clip0200)\" style=\"stroke:#000000; stroke-width:4; stroke-opacity:1; fill:none\" points=\"\n",
       "  727.896,1487.47 727.896,1466.99 \n",
       "  \"/>\n",
       "<polyline clip-path=\"url(#clip0200)\" style=\"stroke:#000000; stroke-width:4; stroke-opacity:1; fill:none\" points=\"\n",
       "  180.66,1448.82 189.108,1448.82 \n",
       "  \"/>\n",
       "<polyline clip-path=\"url(#clip0200)\" style=\"stroke:#000000; stroke-width:4; stroke-opacity:1; fill:none\" points=\"\n",
       "  180.66,1126.7 189.108,1126.7 \n",
       "  \"/>\n",
       "<polyline clip-path=\"url(#clip0200)\" style=\"stroke:#000000; stroke-width:4; stroke-opacity:1; fill:none\" points=\"\n",
       "  180.66,804.575 189.108,804.575 \n",
       "  \"/>\n",
       "<polyline clip-path=\"url(#clip0200)\" style=\"stroke:#000000; stroke-width:4; stroke-opacity:1; fill:none\" points=\"\n",
       "  180.66,482.452 189.108,482.452 \n",
       "  \"/>\n",
       "<polyline clip-path=\"url(#clip0200)\" style=\"stroke:#000000; stroke-width:4; stroke-opacity:1; fill:none\" points=\"\n",
       "  180.66,160.33 189.108,160.33 \n",
       "  \"/>\n",
       "<g clip-path=\"url(#clip0200)\">\n",
       "<text style=\"fill:#000000; fill-opacity:1; font-family:Arial,Helvetica Neue,Helvetica,sans-serif; font-size:48px; text-anchor:middle;\" transform=\"rotate(0, 196.599, 1541.47)\" x=\"196.599\" y=\"1541.47\">0.00</text>\n",
       "</g>\n",
       "<g clip-path=\"url(#clip0200)\">\n",
       "<text style=\"fill:#000000; fill-opacity:1; font-family:Arial,Helvetica Neue,Helvetica,sans-serif; font-size:48px; text-anchor:middle;\" transform=\"rotate(0, 329.423, 1541.47)\" x=\"329.423\" y=\"1541.47\">0.25</text>\n",
       "</g>\n",
       "<g clip-path=\"url(#clip0200)\">\n",
       "<text style=\"fill:#000000; fill-opacity:1; font-family:Arial,Helvetica Neue,Helvetica,sans-serif; font-size:48px; text-anchor:middle;\" transform=\"rotate(0, 462.248, 1541.47)\" x=\"462.248\" y=\"1541.47\">0.50</text>\n",
       "</g>\n",
       "<g clip-path=\"url(#clip0200)\">\n",
       "<text style=\"fill:#000000; fill-opacity:1; font-family:Arial,Helvetica Neue,Helvetica,sans-serif; font-size:48px; text-anchor:middle;\" transform=\"rotate(0, 595.072, 1541.47)\" x=\"595.072\" y=\"1541.47\">0.75</text>\n",
       "</g>\n",
       "<g clip-path=\"url(#clip0200)\">\n",
       "<text style=\"fill:#000000; fill-opacity:1; font-family:Arial,Helvetica Neue,Helvetica,sans-serif; font-size:48px; text-anchor:middle;\" transform=\"rotate(0, 727.896, 1541.47)\" x=\"727.896\" y=\"1541.47\">1.00</text>\n",
       "</g>\n",
       "<g clip-path=\"url(#clip0200)\">\n",
       "<text style=\"fill:#000000; fill-opacity:1; font-family:Arial,Helvetica Neue,Helvetica,sans-serif; font-size:48px; text-anchor:end;\" transform=\"rotate(0, 156.66, 1466.32)\" x=\"156.66\" y=\"1466.32\">1.00</text>\n",
       "</g>\n",
       "<g clip-path=\"url(#clip0200)\">\n",
       "<text style=\"fill:#000000; fill-opacity:1; font-family:Arial,Helvetica Neue,Helvetica,sans-serif; font-size:48px; text-anchor:end;\" transform=\"rotate(0, 156.66, 1144.2)\" x=\"156.66\" y=\"1144.2\">1.25</text>\n",
       "</g>\n",
       "<g clip-path=\"url(#clip0200)\">\n",
       "<text style=\"fill:#000000; fill-opacity:1; font-family:Arial,Helvetica Neue,Helvetica,sans-serif; font-size:48px; text-anchor:end;\" transform=\"rotate(0, 156.66, 822.075)\" x=\"156.66\" y=\"822.075\">1.50</text>\n",
       "</g>\n",
       "<g clip-path=\"url(#clip0200)\">\n",
       "<text style=\"fill:#000000; fill-opacity:1; font-family:Arial,Helvetica Neue,Helvetica,sans-serif; font-size:48px; text-anchor:end;\" transform=\"rotate(0, 156.66, 499.952)\" x=\"156.66\" y=\"499.952\">1.75</text>\n",
       "</g>\n",
       "<g clip-path=\"url(#clip0200)\">\n",
       "<text style=\"fill:#000000; fill-opacity:1; font-family:Arial,Helvetica Neue,Helvetica,sans-serif; font-size:48px; text-anchor:end;\" transform=\"rotate(0, 156.66, 177.83)\" x=\"156.66\" y=\"177.83\">2.00</text>\n",
       "</g>\n",
       "<g clip-path=\"url(#clip0200)\">\n",
       "<text style=\"fill:#000000; fill-opacity:1; font-family:Arial,Helvetica Neue,Helvetica,sans-serif; font-size:84px; text-anchor:middle;\" transform=\"rotate(0, 462.248, 73.2)\" x=\"462.248\" y=\"73.2\">Prior</text>\n",
       "</g>\n",
       "<polyline clip-path=\"url(#clip0202)\" style=\"stroke:#009af9; stroke-width:4; stroke-opacity:1; fill:none\" points=\"\n",
       "  196.599,1448.82 201.966,1448.82 207.332,1448.82 212.699,1448.82 218.066,1448.82 223.432,1448.82 228.799,1448.82 234.166,1448.82 239.532,1448.82 244.899,1448.82 \n",
       "  250.266,1448.82 255.632,1448.82 260.999,1448.82 266.365,1448.82 271.732,1448.82 277.099,1448.82 282.465,1448.82 287.832,1448.82 293.199,1448.82 298.565,1448.82 \n",
       "  303.932,1448.82 309.299,1448.82 314.665,1448.82 320.032,1448.82 325.398,1448.82 330.765,1448.82 336.132,1448.82 341.498,1448.82 346.865,1448.82 352.232,1448.82 \n",
       "  357.598,1448.82 362.965,1448.82 368.332,1448.82 373.698,1448.82 379.065,1448.82 384.431,1448.82 389.798,1448.82 395.165,1448.82 400.531,1448.82 405.898,1448.82 \n",
       "  411.265,1448.82 416.631,1448.82 421.998,1448.82 427.365,1448.82 432.731,1448.82 438.098,1448.82 443.464,1448.82 448.831,1448.82 454.198,1448.82 459.564,1448.82 \n",
       "  464.931,1448.82 470.298,1448.82 475.664,1448.82 481.031,1448.82 486.398,1448.82 491.764,1448.82 497.131,1448.82 502.497,1448.82 507.864,1448.82 513.231,1448.82 \n",
       "  518.597,1448.82 523.964,1448.82 529.331,1448.82 534.697,1448.82 540.064,1448.82 545.431,1448.82 550.797,1448.82 556.164,1448.82 561.53,1448.82 566.897,1448.82 \n",
       "  572.264,1448.82 577.63,1448.82 582.997,1448.82 588.364,1448.82 593.73,1448.82 599.097,1448.82 604.464,1448.82 609.83,1448.82 615.197,1448.82 620.563,1448.82 \n",
       "  625.93,1448.82 631.297,1448.82 636.663,1448.82 642.03,1448.82 647.397,1448.82 652.763,1448.82 658.13,1448.82 663.497,1448.82 668.863,1448.82 674.23,1448.82 \n",
       "  679.596,1448.82 684.963,1448.82 690.33,1448.82 695.696,1448.82 701.063,1448.82 706.43,1448.82 711.796,1448.82 717.163,1448.82 722.53,1448.82 727.896,1448.82 \n",
       "  \n",
       "  \"/>\n",
       "<path clip-path=\"url(#clip0200)\" d=\"\n",
       "M971.74 1487.47 L1534.91 1487.47 L1534.91 121.675 L971.74 121.675  Z\n",
       "  \" fill=\"#ffffff\" fill-rule=\"evenodd\" fill-opacity=\"1\"/>\n",
       "<defs>\n",
       "  <clipPath id=\"clip0203\">\n",
       "    <rect x=\"971\" y=\"121\" width=\"564\" height=\"1367\"/>\n",
       "  </clipPath>\n",
       "</defs>\n",
       "<polyline clip-path=\"url(#clip0203)\" style=\"stroke:#000000; stroke-width:2; stroke-opacity:0.1; fill:none\" points=\"\n",
       "  987.678,1487.47 987.678,121.675 \n",
       "  \"/>\n",
       "<polyline clip-path=\"url(#clip0203)\" style=\"stroke:#000000; stroke-width:2; stroke-opacity:0.1; fill:none\" points=\"\n",
       "  1120.5,1487.47 1120.5,121.675 \n",
       "  \"/>\n",
       "<polyline clip-path=\"url(#clip0203)\" style=\"stroke:#000000; stroke-width:2; stroke-opacity:0.1; fill:none\" points=\"\n",
       "  1253.33,1487.47 1253.33,121.675 \n",
       "  \"/>\n",
       "<polyline clip-path=\"url(#clip0203)\" style=\"stroke:#000000; stroke-width:2; stroke-opacity:0.1; fill:none\" points=\"\n",
       "  1386.15,1487.47 1386.15,121.675 \n",
       "  \"/>\n",
       "<polyline clip-path=\"url(#clip0203)\" style=\"stroke:#000000; stroke-width:2; stroke-opacity:0.1; fill:none\" points=\"\n",
       "  1518.98,1487.47 1518.98,121.675 \n",
       "  \"/>\n",
       "<polyline clip-path=\"url(#clip0203)\" style=\"stroke:#000000; stroke-width:2; stroke-opacity:0.1; fill:none\" points=\"\n",
       "  971.74,1448.82 1534.91,1448.82 \n",
       "  \"/>\n",
       "<polyline clip-path=\"url(#clip0203)\" style=\"stroke:#000000; stroke-width:2; stroke-opacity:0.1; fill:none\" points=\"\n",
       "  971.74,1212.94 1534.91,1212.94 \n",
       "  \"/>\n",
       "<polyline clip-path=\"url(#clip0203)\" style=\"stroke:#000000; stroke-width:2; stroke-opacity:0.1; fill:none\" points=\"\n",
       "  971.74,977.069 1534.91,977.069 \n",
       "  \"/>\n",
       "<polyline clip-path=\"url(#clip0203)\" style=\"stroke:#000000; stroke-width:2; stroke-opacity:0.1; fill:none\" points=\"\n",
       "  971.74,741.193 1534.91,741.193 \n",
       "  \"/>\n",
       "<polyline clip-path=\"url(#clip0203)\" style=\"stroke:#000000; stroke-width:2; stroke-opacity:0.1; fill:none\" points=\"\n",
       "  971.74,505.317 1534.91,505.317 \n",
       "  \"/>\n",
       "<polyline clip-path=\"url(#clip0203)\" style=\"stroke:#000000; stroke-width:2; stroke-opacity:0.1; fill:none\" points=\"\n",
       "  971.74,269.442 1534.91,269.442 \n",
       "  \"/>\n",
       "<polyline clip-path=\"url(#clip0200)\" style=\"stroke:#000000; stroke-width:4; stroke-opacity:1; fill:none\" points=\"\n",
       "  971.74,1487.47 1534.91,1487.47 \n",
       "  \"/>\n",
       "<polyline clip-path=\"url(#clip0200)\" style=\"stroke:#000000; stroke-width:4; stroke-opacity:1; fill:none\" points=\"\n",
       "  971.74,1487.47 971.74,121.675 \n",
       "  \"/>\n",
       "<polyline clip-path=\"url(#clip0200)\" style=\"stroke:#000000; stroke-width:4; stroke-opacity:1; fill:none\" points=\"\n",
       "  987.678,1487.47 987.678,1466.99 \n",
       "  \"/>\n",
       "<polyline clip-path=\"url(#clip0200)\" style=\"stroke:#000000; stroke-width:4; stroke-opacity:1; fill:none\" points=\"\n",
       "  1120.5,1487.47 1120.5,1466.99 \n",
       "  \"/>\n",
       "<polyline clip-path=\"url(#clip0200)\" style=\"stroke:#000000; stroke-width:4; stroke-opacity:1; fill:none\" points=\"\n",
       "  1253.33,1487.47 1253.33,1466.99 \n",
       "  \"/>\n",
       "<polyline clip-path=\"url(#clip0200)\" style=\"stroke:#000000; stroke-width:4; stroke-opacity:1; fill:none\" points=\"\n",
       "  1386.15,1487.47 1386.15,1466.99 \n",
       "  \"/>\n",
       "<polyline clip-path=\"url(#clip0200)\" style=\"stroke:#000000; stroke-width:4; stroke-opacity:1; fill:none\" points=\"\n",
       "  1518.98,1487.47 1518.98,1466.99 \n",
       "  \"/>\n",
       "<polyline clip-path=\"url(#clip0200)\" style=\"stroke:#000000; stroke-width:4; stroke-opacity:1; fill:none\" points=\"\n",
       "  971.74,1448.82 980.187,1448.82 \n",
       "  \"/>\n",
       "<polyline clip-path=\"url(#clip0200)\" style=\"stroke:#000000; stroke-width:4; stroke-opacity:1; fill:none\" points=\"\n",
       "  971.74,1212.94 980.187,1212.94 \n",
       "  \"/>\n",
       "<polyline clip-path=\"url(#clip0200)\" style=\"stroke:#000000; stroke-width:4; stroke-opacity:1; fill:none\" points=\"\n",
       "  971.74,977.069 980.187,977.069 \n",
       "  \"/>\n",
       "<polyline clip-path=\"url(#clip0200)\" style=\"stroke:#000000; stroke-width:4; stroke-opacity:1; fill:none\" points=\"\n",
       "  971.74,741.193 980.187,741.193 \n",
       "  \"/>\n",
       "<polyline clip-path=\"url(#clip0200)\" style=\"stroke:#000000; stroke-width:4; stroke-opacity:1; fill:none\" points=\"\n",
       "  971.74,505.317 980.187,505.317 \n",
       "  \"/>\n",
       "<polyline clip-path=\"url(#clip0200)\" style=\"stroke:#000000; stroke-width:4; stroke-opacity:1; fill:none\" points=\"\n",
       "  971.74,269.442 980.187,269.442 \n",
       "  \"/>\n",
       "<g clip-path=\"url(#clip0200)\">\n",
       "<text style=\"fill:#000000; fill-opacity:1; font-family:Arial,Helvetica Neue,Helvetica,sans-serif; font-size:48px; text-anchor:middle;\" transform=\"rotate(0, 987.678, 1541.47)\" x=\"987.678\" y=\"1541.47\">0.00</text>\n",
       "</g>\n",
       "<g clip-path=\"url(#clip0200)\">\n",
       "<text style=\"fill:#000000; fill-opacity:1; font-family:Arial,Helvetica Neue,Helvetica,sans-serif; font-size:48px; text-anchor:middle;\" transform=\"rotate(0, 1120.5, 1541.47)\" x=\"1120.5\" y=\"1541.47\">0.25</text>\n",
       "</g>\n",
       "<g clip-path=\"url(#clip0200)\">\n",
       "<text style=\"fill:#000000; fill-opacity:1; font-family:Arial,Helvetica Neue,Helvetica,sans-serif; font-size:48px; text-anchor:middle;\" transform=\"rotate(0, 1253.33, 1541.47)\" x=\"1253.33\" y=\"1541.47\">0.50</text>\n",
       "</g>\n",
       "<g clip-path=\"url(#clip0200)\">\n",
       "<text style=\"fill:#000000; fill-opacity:1; font-family:Arial,Helvetica Neue,Helvetica,sans-serif; font-size:48px; text-anchor:middle;\" transform=\"rotate(0, 1386.15, 1541.47)\" x=\"1386.15\" y=\"1541.47\">0.75</text>\n",
       "</g>\n",
       "<g clip-path=\"url(#clip0200)\">\n",
       "<text style=\"fill:#000000; fill-opacity:1; font-family:Arial,Helvetica Neue,Helvetica,sans-serif; font-size:48px; text-anchor:middle;\" transform=\"rotate(0, 1518.98, 1541.47)\" x=\"1518.98\" y=\"1541.47\">1.00</text>\n",
       "</g>\n",
       "<g clip-path=\"url(#clip0200)\">\n",
       "<text style=\"fill:#000000; fill-opacity:1; font-family:Arial,Helvetica Neue,Helvetica,sans-serif; font-size:48px; text-anchor:end;\" transform=\"rotate(0, 947.74, 1466.32)\" x=\"947.74\" y=\"1466.32\">0.00</text>\n",
       "</g>\n",
       "<g clip-path=\"url(#clip0200)\">\n",
       "<text style=\"fill:#000000; fill-opacity:1; font-family:Arial,Helvetica Neue,Helvetica,sans-serif; font-size:48px; text-anchor:end;\" transform=\"rotate(0, 947.74, 1230.44)\" x=\"947.74\" y=\"1230.44\">0.05</text>\n",
       "</g>\n",
       "<g clip-path=\"url(#clip0200)\">\n",
       "<text style=\"fill:#000000; fill-opacity:1; font-family:Arial,Helvetica Neue,Helvetica,sans-serif; font-size:48px; text-anchor:end;\" transform=\"rotate(0, 947.74, 994.569)\" x=\"947.74\" y=\"994.569\">0.10</text>\n",
       "</g>\n",
       "<g clip-path=\"url(#clip0200)\">\n",
       "<text style=\"fill:#000000; fill-opacity:1; font-family:Arial,Helvetica Neue,Helvetica,sans-serif; font-size:48px; text-anchor:end;\" transform=\"rotate(0, 947.74, 758.693)\" x=\"947.74\" y=\"758.693\">0.15</text>\n",
       "</g>\n",
       "<g clip-path=\"url(#clip0200)\">\n",
       "<text style=\"fill:#000000; fill-opacity:1; font-family:Arial,Helvetica Neue,Helvetica,sans-serif; font-size:48px; text-anchor:end;\" transform=\"rotate(0, 947.74, 522.817)\" x=\"947.74\" y=\"522.817\">0.20</text>\n",
       "</g>\n",
       "<g clip-path=\"url(#clip0200)\">\n",
       "<text style=\"fill:#000000; fill-opacity:1; font-family:Arial,Helvetica Neue,Helvetica,sans-serif; font-size:48px; text-anchor:end;\" transform=\"rotate(0, 947.74, 286.942)\" x=\"947.74\" y=\"286.942\">0.25</text>\n",
       "</g>\n",
       "<g clip-path=\"url(#clip0200)\">\n",
       "<text style=\"fill:#000000; fill-opacity:1; font-family:Arial,Helvetica Neue,Helvetica,sans-serif; font-size:84px; text-anchor:middle;\" transform=\"rotate(0, 1253.33, 73.2)\" x=\"1253.33\" y=\"73.2\">Likelihood</text>\n",
       "</g>\n",
       "<polyline clip-path=\"url(#clip0203)\" style=\"stroke:#009af9; stroke-width:4; stroke-opacity:1; fill:none\" points=\"\n",
       "  987.678,1448.82 993.045,1448.82 998.412,1448.82 1003.78,1448.82 1009.14,1448.82 1014.51,1448.81 1019.88,1448.8 1025.24,1448.78 1030.61,1448.73 1035.98,1448.65 \n",
       "  1041.34,1448.51 1046.71,1448.3 1052.08,1447.97 1057.44,1447.49 1062.81,1446.81 1068.18,1445.89 1073.54,1444.66 1078.91,1443.05 1084.28,1440.98 1089.64,1438.37 \n",
       "  1095.01,1435.13 1100.38,1431.16 1105.74,1426.37 1111.11,1420.63 1116.48,1413.85 1121.84,1405.9 1127.21,1396.69 1132.58,1386.09 1137.94,1374 1143.31,1360.32 \n",
       "  1148.68,1344.94 1154.04,1327.77 1159.41,1308.73 1164.78,1287.76 1170.14,1264.79 1175.51,1239.78 1180.88,1212.71 1186.24,1183.57 1191.61,1152.36 1196.98,1119.12 \n",
       "  1202.34,1083.91 1207.71,1046.79 1213.08,1007.86 1218.44,967.26 1223.81,925.123 1229.18,881.625 1234.54,836.963 1239.91,791.355 1245.28,745.045 1250.64,698.3 \n",
       "  1256.01,651.406 1261.38,604.668 1266.74,558.411 1272.11,512.974 1277.48,468.708 1282.84,425.975 1288.21,385.144 1293.58,346.589 1298.94,310.681 1304.31,277.791 \n",
       "  1309.68,248.279 1315.04,222.495 1320.41,200.773 1325.78,183.424 1331.14,170.735 1336.51,162.963 1341.88,160.33 1347.24,163.017 1352.61,171.163 1357.98,184.858 \n",
       "  1363.34,204.139 1368.71,228.988 1374.08,259.327 1379.44,295.014 1384.81,335.843 1390.18,381.543 1395.54,431.774 1400.91,486.126 1406.28,544.127 1411.64,605.236 \n",
       "  1417.01,668.853 1422.38,734.318 1427.74,800.924 1433.11,867.916 1438.48,934.51 1443.84,999.895 1449.21,1063.26 1454.58,1123.78 1459.94,1180.69 1465.31,1233.24 \n",
       "  1470.68,1280.76 1476.04,1322.7 1481.41,1358.6 1486.78,1388.2 1492.14,1411.41 1497.51,1428.41 1502.88,1439.65 1508.24,1445.93 1513.61,1448.44 1518.98,1448.82 \n",
       "  \n",
       "  \"/>\n",
       "<path clip-path=\"url(#clip0200)\" d=\"\n",
       "M1789.58 1487.47 L2352.76 1487.47 L2352.76 121.675 L1789.58 121.675  Z\n",
       "  \" fill=\"#ffffff\" fill-rule=\"evenodd\" fill-opacity=\"1\"/>\n",
       "<defs>\n",
       "  <clipPath id=\"clip0204\">\n",
       "    <rect x=\"1789\" y=\"121\" width=\"564\" height=\"1367\"/>\n",
       "  </clipPath>\n",
       "</defs>\n",
       "<polyline clip-path=\"url(#clip0204)\" style=\"stroke:#000000; stroke-width:2; stroke-opacity:0.1; fill:none\" points=\"\n",
       "  1805.52,1487.47 1805.52,121.675 \n",
       "  \"/>\n",
       "<polyline clip-path=\"url(#clip0204)\" style=\"stroke:#000000; stroke-width:2; stroke-opacity:0.1; fill:none\" points=\"\n",
       "  1938.34,1487.47 1938.34,121.675 \n",
       "  \"/>\n",
       "<polyline clip-path=\"url(#clip0204)\" style=\"stroke:#000000; stroke-width:2; stroke-opacity:0.1; fill:none\" points=\"\n",
       "  2071.17,1487.47 2071.17,121.675 \n",
       "  \"/>\n",
       "<polyline clip-path=\"url(#clip0204)\" style=\"stroke:#000000; stroke-width:2; stroke-opacity:0.1; fill:none\" points=\"\n",
       "  2203.99,1487.47 2203.99,121.675 \n",
       "  \"/>\n",
       "<polyline clip-path=\"url(#clip0204)\" style=\"stroke:#000000; stroke-width:2; stroke-opacity:0.1; fill:none\" points=\"\n",
       "  2336.82,1487.47 2336.82,121.675 \n",
       "  \"/>\n",
       "<polyline clip-path=\"url(#clip0204)\" style=\"stroke:#000000; stroke-width:2; stroke-opacity:0.1; fill:none\" points=\"\n",
       "  1789.58,1448.82 2352.76,1448.82 \n",
       "  \"/>\n",
       "<polyline clip-path=\"url(#clip0204)\" style=\"stroke:#000000; stroke-width:2; stroke-opacity:0.1; fill:none\" points=\"\n",
       "  1789.58,1215.3 2352.76,1215.3 \n",
       "  \"/>\n",
       "<polyline clip-path=\"url(#clip0204)\" style=\"stroke:#000000; stroke-width:2; stroke-opacity:0.1; fill:none\" points=\"\n",
       "  1789.58,981.786 2352.76,981.786 \n",
       "  \"/>\n",
       "<polyline clip-path=\"url(#clip0204)\" style=\"stroke:#000000; stroke-width:2; stroke-opacity:0.1; fill:none\" points=\"\n",
       "  1789.58,748.269 2352.76,748.269 \n",
       "  \"/>\n",
       "<polyline clip-path=\"url(#clip0204)\" style=\"stroke:#000000; stroke-width:2; stroke-opacity:0.1; fill:none\" points=\"\n",
       "  1789.58,514.752 2352.76,514.752 \n",
       "  \"/>\n",
       "<polyline clip-path=\"url(#clip0204)\" style=\"stroke:#000000; stroke-width:2; stroke-opacity:0.1; fill:none\" points=\"\n",
       "  1789.58,281.235 2352.76,281.235 \n",
       "  \"/>\n",
       "<polyline clip-path=\"url(#clip0200)\" style=\"stroke:#000000; stroke-width:4; stroke-opacity:1; fill:none\" points=\"\n",
       "  1789.58,1487.47 2352.76,1487.47 \n",
       "  \"/>\n",
       "<polyline clip-path=\"url(#clip0200)\" style=\"stroke:#000000; stroke-width:4; stroke-opacity:1; fill:none\" points=\"\n",
       "  1789.58,1487.47 1789.58,121.675 \n",
       "  \"/>\n",
       "<polyline clip-path=\"url(#clip0200)\" style=\"stroke:#000000; stroke-width:4; stroke-opacity:1; fill:none\" points=\"\n",
       "  1805.52,1487.47 1805.52,1466.99 \n",
       "  \"/>\n",
       "<polyline clip-path=\"url(#clip0200)\" style=\"stroke:#000000; stroke-width:4; stroke-opacity:1; fill:none\" points=\"\n",
       "  1938.34,1487.47 1938.34,1466.99 \n",
       "  \"/>\n",
       "<polyline clip-path=\"url(#clip0200)\" style=\"stroke:#000000; stroke-width:4; stroke-opacity:1; fill:none\" points=\"\n",
       "  2071.17,1487.47 2071.17,1466.99 \n",
       "  \"/>\n",
       "<polyline clip-path=\"url(#clip0200)\" style=\"stroke:#000000; stroke-width:4; stroke-opacity:1; fill:none\" points=\"\n",
       "  2203.99,1487.47 2203.99,1466.99 \n",
       "  \"/>\n",
       "<polyline clip-path=\"url(#clip0200)\" style=\"stroke:#000000; stroke-width:4; stroke-opacity:1; fill:none\" points=\"\n",
       "  2336.82,1487.47 2336.82,1466.99 \n",
       "  \"/>\n",
       "<polyline clip-path=\"url(#clip0200)\" style=\"stroke:#000000; stroke-width:4; stroke-opacity:1; fill:none\" points=\"\n",
       "  1789.58,1448.82 1798.03,1448.82 \n",
       "  \"/>\n",
       "<polyline clip-path=\"url(#clip0200)\" style=\"stroke:#000000; stroke-width:4; stroke-opacity:1; fill:none\" points=\"\n",
       "  1789.58,1215.3 1798.03,1215.3 \n",
       "  \"/>\n",
       "<polyline clip-path=\"url(#clip0200)\" style=\"stroke:#000000; stroke-width:4; stroke-opacity:1; fill:none\" points=\"\n",
       "  1789.58,981.786 1798.03,981.786 \n",
       "  \"/>\n",
       "<polyline clip-path=\"url(#clip0200)\" style=\"stroke:#000000; stroke-width:4; stroke-opacity:1; fill:none\" points=\"\n",
       "  1789.58,748.269 1798.03,748.269 \n",
       "  \"/>\n",
       "<polyline clip-path=\"url(#clip0200)\" style=\"stroke:#000000; stroke-width:4; stroke-opacity:1; fill:none\" points=\"\n",
       "  1789.58,514.752 1798.03,514.752 \n",
       "  \"/>\n",
       "<polyline clip-path=\"url(#clip0200)\" style=\"stroke:#000000; stroke-width:4; stroke-opacity:1; fill:none\" points=\"\n",
       "  1789.58,281.235 1798.03,281.235 \n",
       "  \"/>\n",
       "<g clip-path=\"url(#clip0200)\">\n",
       "<text style=\"fill:#000000; fill-opacity:1; font-family:Arial,Helvetica Neue,Helvetica,sans-serif; font-size:48px; text-anchor:middle;\" transform=\"rotate(0, 1805.52, 1541.47)\" x=\"1805.52\" y=\"1541.47\">0.00</text>\n",
       "</g>\n",
       "<g clip-path=\"url(#clip0200)\">\n",
       "<text style=\"fill:#000000; fill-opacity:1; font-family:Arial,Helvetica Neue,Helvetica,sans-serif; font-size:48px; text-anchor:middle;\" transform=\"rotate(0, 1938.34, 1541.47)\" x=\"1938.34\" y=\"1541.47\">0.25</text>\n",
       "</g>\n",
       "<g clip-path=\"url(#clip0200)\">\n",
       "<text style=\"fill:#000000; fill-opacity:1; font-family:Arial,Helvetica Neue,Helvetica,sans-serif; font-size:48px; text-anchor:middle;\" transform=\"rotate(0, 2071.17, 1541.47)\" x=\"2071.17\" y=\"1541.47\">0.50</text>\n",
       "</g>\n",
       "<g clip-path=\"url(#clip0200)\">\n",
       "<text style=\"fill:#000000; fill-opacity:1; font-family:Arial,Helvetica Neue,Helvetica,sans-serif; font-size:48px; text-anchor:middle;\" transform=\"rotate(0, 2203.99, 1541.47)\" x=\"2203.99\" y=\"1541.47\">0.75</text>\n",
       "</g>\n",
       "<g clip-path=\"url(#clip0200)\">\n",
       "<text style=\"fill:#000000; fill-opacity:1; font-family:Arial,Helvetica Neue,Helvetica,sans-serif; font-size:48px; text-anchor:middle;\" transform=\"rotate(0, 2336.82, 1541.47)\" x=\"2336.82\" y=\"1541.47\">1.00</text>\n",
       "</g>\n",
       "<g clip-path=\"url(#clip0200)\">\n",
       "<text style=\"fill:#000000; fill-opacity:1; font-family:Arial,Helvetica Neue,Helvetica,sans-serif; font-size:48px; text-anchor:end;\" transform=\"rotate(0, 1765.58, 1466.32)\" x=\"1765.58\" y=\"1466.32\">0.000</text>\n",
       "</g>\n",
       "<g clip-path=\"url(#clip0200)\">\n",
       "<text style=\"fill:#000000; fill-opacity:1; font-family:Arial,Helvetica Neue,Helvetica,sans-serif; font-size:48px; text-anchor:end;\" transform=\"rotate(0, 1765.58, 1232.8)\" x=\"1765.58\" y=\"1232.8\">0.005</text>\n",
       "</g>\n",
       "<g clip-path=\"url(#clip0200)\">\n",
       "<text style=\"fill:#000000; fill-opacity:1; font-family:Arial,Helvetica Neue,Helvetica,sans-serif; font-size:48px; text-anchor:end;\" transform=\"rotate(0, 1765.58, 999.286)\" x=\"1765.58\" y=\"999.286\">0.010</text>\n",
       "</g>\n",
       "<g clip-path=\"url(#clip0200)\">\n",
       "<text style=\"fill:#000000; fill-opacity:1; font-family:Arial,Helvetica Neue,Helvetica,sans-serif; font-size:48px; text-anchor:end;\" transform=\"rotate(0, 1765.58, 765.769)\" x=\"1765.58\" y=\"765.769\">0.015</text>\n",
       "</g>\n",
       "<g clip-path=\"url(#clip0200)\">\n",
       "<text style=\"fill:#000000; fill-opacity:1; font-family:Arial,Helvetica Neue,Helvetica,sans-serif; font-size:48px; text-anchor:end;\" transform=\"rotate(0, 1765.58, 532.252)\" x=\"1765.58\" y=\"532.252\">0.020</text>\n",
       "</g>\n",
       "<g clip-path=\"url(#clip0200)\">\n",
       "<text style=\"fill:#000000; fill-opacity:1; font-family:Arial,Helvetica Neue,Helvetica,sans-serif; font-size:48px; text-anchor:end;\" transform=\"rotate(0, 1765.58, 298.735)\" x=\"1765.58\" y=\"298.735\">0.025</text>\n",
       "</g>\n",
       "<g clip-path=\"url(#clip0200)\">\n",
       "<text style=\"fill:#000000; fill-opacity:1; font-family:Arial,Helvetica Neue,Helvetica,sans-serif; font-size:84px; text-anchor:middle;\" transform=\"rotate(0, 2071.17, 73.2)\" x=\"2071.17\" y=\"73.2\">Posterior</text>\n",
       "</g>\n",
       "<polyline clip-path=\"url(#clip0204)\" style=\"stroke:#009af9; stroke-width:4; stroke-opacity:1; fill:none\" points=\"\n",
       "  1805.52,1448.82 1810.89,1448.82 1816.25,1448.82 1821.62,1448.82 1826.99,1448.82 1832.35,1448.81 1837.72,1448.8 1843.09,1448.78 1848.45,1448.73 1853.82,1448.65 \n",
       "  1859.19,1448.51 1864.55,1448.3 1869.92,1447.97 1875.29,1447.49 1880.65,1446.81 1886.02,1445.89 1891.39,1444.66 1896.75,1443.05 1902.12,1440.98 1907.49,1438.37 \n",
       "  1912.85,1435.13 1918.22,1431.16 1923.59,1426.37 1928.95,1420.63 1934.32,1413.85 1939.69,1405.9 1945.05,1396.69 1950.42,1386.09 1955.79,1374 1961.15,1360.32 \n",
       "  1966.52,1344.94 1971.89,1327.77 1977.25,1308.73 1982.62,1287.76 1987.99,1264.79 1993.35,1239.78 1998.72,1212.71 2004.09,1183.57 2009.45,1152.36 2014.82,1119.12 \n",
       "  2020.19,1083.91 2025.55,1046.79 2030.92,1007.86 2036.29,967.26 2041.65,925.123 2047.02,881.625 2052.39,836.963 2057.75,791.355 2063.12,745.045 2068.49,698.3 \n",
       "  2073.85,651.406 2079.22,604.668 2084.59,558.411 2089.95,512.974 2095.32,468.708 2100.68,425.975 2106.05,385.144 2111.42,346.589 2116.78,310.681 2122.15,277.791 \n",
       "  2127.52,248.279 2132.88,222.495 2138.25,200.773 2143.62,183.424 2148.98,170.735 2154.35,162.963 2159.72,160.33 2165.08,163.017 2170.45,171.163 2175.82,184.858 \n",
       "  2181.18,204.139 2186.55,228.988 2191.92,259.327 2197.28,295.014 2202.65,335.843 2208.02,381.543 2213.38,431.774 2218.75,486.126 2224.12,544.127 2229.48,605.236 \n",
       "  2234.85,668.853 2240.22,734.318 2245.58,800.924 2250.95,867.916 2256.32,934.51 2261.68,999.895 2267.05,1063.26 2272.42,1123.78 2277.78,1180.69 2283.15,1233.24 \n",
       "  2288.52,1280.76 2293.88,1322.7 2299.25,1358.6 2304.62,1388.2 2309.98,1411.41 2315.35,1428.41 2320.72,1439.65 2326.08,1445.93 2331.45,1448.44 2336.82,1448.82 \n",
       "  \n",
       "  \"/>\n",
       "</svg>\n"
      ]
     },
     "execution_count": 71,
     "metadata": {},
     "output_type": "execute_result"
    }
   ],
   "source": [
    "prior1 = ones(length(p_grid))\n",
    "posterior1 = computePosterior(likelihood, prior1)"
   ]
  },
  {
   "cell_type": "code",
   "execution_count": 72,
   "metadata": {},
   "outputs": [
    {
     "data": {
      "image/svg+xml": [
       "<?xml version=\"1.0\" encoding=\"utf-8\"?>\n",
       "<svg xmlns=\"http://www.w3.org/2000/svg\" xmlns:xlink=\"http://www.w3.org/1999/xlink\" width=\"600\" height=\"400\" viewBox=\"0 0 2400 1600\">\n",
       "<defs>\n",
       "  <clipPath id=\"clip0600\">\n",
       "    <rect x=\"0\" y=\"0\" width=\"2400\" height=\"1600\"/>\n",
       "  </clipPath>\n",
       "</defs>\n",
       "<path clip-path=\"url(#clip0600)\" d=\"\n",
       "M0 1600 L2400 1600 L2400 0 L0 0  Z\n",
       "  \" fill=\"#ffffff\" fill-rule=\"evenodd\" fill-opacity=\"1\"/>\n",
       "<defs>\n",
       "  <clipPath id=\"clip0601\">\n",
       "    <rect x=\"480\" y=\"0\" width=\"1681\" height=\"1600\"/>\n",
       "  </clipPath>\n",
       "</defs>\n",
       "<path clip-path=\"url(#clip0600)\" d=\"\n",
       "M153.898 1487.47 L734.914 1487.47 L734.914 121.675 L153.898 121.675  Z\n",
       "  \" fill=\"#ffffff\" fill-rule=\"evenodd\" fill-opacity=\"1\"/>\n",
       "<defs>\n",
       "  <clipPath id=\"clip0602\">\n",
       "    <rect x=\"153\" y=\"121\" width=\"582\" height=\"1367\"/>\n",
       "  </clipPath>\n",
       "</defs>\n",
       "<polyline clip-path=\"url(#clip0602)\" style=\"stroke:#000000; stroke-width:2; stroke-opacity:0.1; fill:none\" points=\"\n",
       "  170.342,1487.47 170.342,121.675 \n",
       "  \"/>\n",
       "<polyline clip-path=\"url(#clip0602)\" style=\"stroke:#000000; stroke-width:2; stroke-opacity:0.1; fill:none\" points=\"\n",
       "  307.374,1487.47 307.374,121.675 \n",
       "  \"/>\n",
       "<polyline clip-path=\"url(#clip0602)\" style=\"stroke:#000000; stroke-width:2; stroke-opacity:0.1; fill:none\" points=\"\n",
       "  444.406,1487.47 444.406,121.675 \n",
       "  \"/>\n",
       "<polyline clip-path=\"url(#clip0602)\" style=\"stroke:#000000; stroke-width:2; stroke-opacity:0.1; fill:none\" points=\"\n",
       "  581.438,1487.47 581.438,121.675 \n",
       "  \"/>\n",
       "<polyline clip-path=\"url(#clip0602)\" style=\"stroke:#000000; stroke-width:2; stroke-opacity:0.1; fill:none\" points=\"\n",
       "  718.47,1487.47 718.47,121.675 \n",
       "  \"/>\n",
       "<polyline clip-path=\"url(#clip0602)\" style=\"stroke:#000000; stroke-width:2; stroke-opacity:0.1; fill:none\" points=\"\n",
       "  153.898,1448.82 734.914,1448.82 \n",
       "  \"/>\n",
       "<polyline clip-path=\"url(#clip0602)\" style=\"stroke:#000000; stroke-width:2; stroke-opacity:0.1; fill:none\" points=\"\n",
       "  153.898,1191.12 734.914,1191.12 \n",
       "  \"/>\n",
       "<polyline clip-path=\"url(#clip0602)\" style=\"stroke:#000000; stroke-width:2; stroke-opacity:0.1; fill:none\" points=\"\n",
       "  153.898,933.424 734.914,933.424 \n",
       "  \"/>\n",
       "<polyline clip-path=\"url(#clip0602)\" style=\"stroke:#000000; stroke-width:2; stroke-opacity:0.1; fill:none\" points=\"\n",
       "  153.898,675.726 734.914,675.726 \n",
       "  \"/>\n",
       "<polyline clip-path=\"url(#clip0602)\" style=\"stroke:#000000; stroke-width:2; stroke-opacity:0.1; fill:none\" points=\"\n",
       "  153.898,418.028 734.914,418.028 \n",
       "  \"/>\n",
       "<polyline clip-path=\"url(#clip0602)\" style=\"stroke:#000000; stroke-width:2; stroke-opacity:0.1; fill:none\" points=\"\n",
       "  153.898,160.33 734.914,160.33 \n",
       "  \"/>\n",
       "<polyline clip-path=\"url(#clip0600)\" style=\"stroke:#000000; stroke-width:4; stroke-opacity:1; fill:none\" points=\"\n",
       "  153.898,1487.47 734.914,1487.47 \n",
       "  \"/>\n",
       "<polyline clip-path=\"url(#clip0600)\" style=\"stroke:#000000; stroke-width:4; stroke-opacity:1; fill:none\" points=\"\n",
       "  153.898,1487.47 153.898,121.675 \n",
       "  \"/>\n",
       "<polyline clip-path=\"url(#clip0600)\" style=\"stroke:#000000; stroke-width:4; stroke-opacity:1; fill:none\" points=\"\n",
       "  170.342,1487.47 170.342,1466.99 \n",
       "  \"/>\n",
       "<polyline clip-path=\"url(#clip0600)\" style=\"stroke:#000000; stroke-width:4; stroke-opacity:1; fill:none\" points=\"\n",
       "  307.374,1487.47 307.374,1466.99 \n",
       "  \"/>\n",
       "<polyline clip-path=\"url(#clip0600)\" style=\"stroke:#000000; stroke-width:4; stroke-opacity:1; fill:none\" points=\"\n",
       "  444.406,1487.47 444.406,1466.99 \n",
       "  \"/>\n",
       "<polyline clip-path=\"url(#clip0600)\" style=\"stroke:#000000; stroke-width:4; stroke-opacity:1; fill:none\" points=\"\n",
       "  581.438,1487.47 581.438,1466.99 \n",
       "  \"/>\n",
       "<polyline clip-path=\"url(#clip0600)\" style=\"stroke:#000000; stroke-width:4; stroke-opacity:1; fill:none\" points=\"\n",
       "  718.47,1487.47 718.47,1466.99 \n",
       "  \"/>\n",
       "<polyline clip-path=\"url(#clip0600)\" style=\"stroke:#000000; stroke-width:4; stroke-opacity:1; fill:none\" points=\"\n",
       "  153.898,1448.82 162.613,1448.82 \n",
       "  \"/>\n",
       "<polyline clip-path=\"url(#clip0600)\" style=\"stroke:#000000; stroke-width:4; stroke-opacity:1; fill:none\" points=\"\n",
       "  153.898,1191.12 162.613,1191.12 \n",
       "  \"/>\n",
       "<polyline clip-path=\"url(#clip0600)\" style=\"stroke:#000000; stroke-width:4; stroke-opacity:1; fill:none\" points=\"\n",
       "  153.898,933.424 162.613,933.424 \n",
       "  \"/>\n",
       "<polyline clip-path=\"url(#clip0600)\" style=\"stroke:#000000; stroke-width:4; stroke-opacity:1; fill:none\" points=\"\n",
       "  153.898,675.726 162.613,675.726 \n",
       "  \"/>\n",
       "<polyline clip-path=\"url(#clip0600)\" style=\"stroke:#000000; stroke-width:4; stroke-opacity:1; fill:none\" points=\"\n",
       "  153.898,418.028 162.613,418.028 \n",
       "  \"/>\n",
       "<polyline clip-path=\"url(#clip0600)\" style=\"stroke:#000000; stroke-width:4; stroke-opacity:1; fill:none\" points=\"\n",
       "  153.898,160.33 162.613,160.33 \n",
       "  \"/>\n",
       "<g clip-path=\"url(#clip0600)\">\n",
       "<text style=\"fill:#000000; fill-opacity:1; font-family:Arial,Helvetica Neue,Helvetica,sans-serif; font-size:48px; text-anchor:middle;\" transform=\"rotate(0, 170.342, 1541.47)\" x=\"170.342\" y=\"1541.47\">0.00</text>\n",
       "</g>\n",
       "<g clip-path=\"url(#clip0600)\">\n",
       "<text style=\"fill:#000000; fill-opacity:1; font-family:Arial,Helvetica Neue,Helvetica,sans-serif; font-size:48px; text-anchor:middle;\" transform=\"rotate(0, 307.374, 1541.47)\" x=\"307.374\" y=\"1541.47\">0.25</text>\n",
       "</g>\n",
       "<g clip-path=\"url(#clip0600)\">\n",
       "<text style=\"fill:#000000; fill-opacity:1; font-family:Arial,Helvetica Neue,Helvetica,sans-serif; font-size:48px; text-anchor:middle;\" transform=\"rotate(0, 444.406, 1541.47)\" x=\"444.406\" y=\"1541.47\">0.50</text>\n",
       "</g>\n",
       "<g clip-path=\"url(#clip0600)\">\n",
       "<text style=\"fill:#000000; fill-opacity:1; font-family:Arial,Helvetica Neue,Helvetica,sans-serif; font-size:48px; text-anchor:middle;\" transform=\"rotate(0, 581.438, 1541.47)\" x=\"581.438\" y=\"1541.47\">0.75</text>\n",
       "</g>\n",
       "<g clip-path=\"url(#clip0600)\">\n",
       "<text style=\"fill:#000000; fill-opacity:1; font-family:Arial,Helvetica Neue,Helvetica,sans-serif; font-size:48px; text-anchor:middle;\" transform=\"rotate(0, 718.47, 1541.47)\" x=\"718.47\" y=\"1541.47\">1.00</text>\n",
       "</g>\n",
       "<g clip-path=\"url(#clip0600)\">\n",
       "<text style=\"fill:#000000; fill-opacity:1; font-family:Arial,Helvetica Neue,Helvetica,sans-serif; font-size:48px; text-anchor:end;\" transform=\"rotate(0, 129.898, 1466.32)\" x=\"129.898\" y=\"1466.32\">0.0</text>\n",
       "</g>\n",
       "<g clip-path=\"url(#clip0600)\">\n",
       "<text style=\"fill:#000000; fill-opacity:1; font-family:Arial,Helvetica Neue,Helvetica,sans-serif; font-size:48px; text-anchor:end;\" transform=\"rotate(0, 129.898, 1208.62)\" x=\"129.898\" y=\"1208.62\">0.1</text>\n",
       "</g>\n",
       "<g clip-path=\"url(#clip0600)\">\n",
       "<text style=\"fill:#000000; fill-opacity:1; font-family:Arial,Helvetica Neue,Helvetica,sans-serif; font-size:48px; text-anchor:end;\" transform=\"rotate(0, 129.898, 950.924)\" x=\"129.898\" y=\"950.924\">0.2</text>\n",
       "</g>\n",
       "<g clip-path=\"url(#clip0600)\">\n",
       "<text style=\"fill:#000000; fill-opacity:1; font-family:Arial,Helvetica Neue,Helvetica,sans-serif; font-size:48px; text-anchor:end;\" transform=\"rotate(0, 129.898, 693.226)\" x=\"129.898\" y=\"693.226\">0.3</text>\n",
       "</g>\n",
       "<g clip-path=\"url(#clip0600)\">\n",
       "<text style=\"fill:#000000; fill-opacity:1; font-family:Arial,Helvetica Neue,Helvetica,sans-serif; font-size:48px; text-anchor:end;\" transform=\"rotate(0, 129.898, 435.528)\" x=\"129.898\" y=\"435.528\">0.4</text>\n",
       "</g>\n",
       "<g clip-path=\"url(#clip0600)\">\n",
       "<text style=\"fill:#000000; fill-opacity:1; font-family:Arial,Helvetica Neue,Helvetica,sans-serif; font-size:48px; text-anchor:end;\" transform=\"rotate(0, 129.898, 177.83)\" x=\"129.898\" y=\"177.83\">0.5</text>\n",
       "</g>\n",
       "<g clip-path=\"url(#clip0600)\">\n",
       "<text style=\"fill:#000000; fill-opacity:1; font-family:Arial,Helvetica Neue,Helvetica,sans-serif; font-size:84px; text-anchor:middle;\" transform=\"rotate(0, 444.406, 73.2)\" x=\"444.406\" y=\"73.2\">Prior</text>\n",
       "</g>\n",
       "<polyline clip-path=\"url(#clip0602)\" style=\"stroke:#009af9; stroke-width:4; stroke-opacity:1; fill:none\" points=\"\n",
       "  170.342,1448.82 175.878,1448.82 181.415,1448.82 186.952,1448.82 192.488,1448.82 198.025,1448.82 203.562,1448.82 209.098,1448.82 214.635,1448.82 220.172,1448.82 \n",
       "  225.708,1448.82 231.245,1448.82 236.782,1448.82 242.318,1448.82 247.855,1448.82 253.392,1448.82 258.928,1448.82 264.465,1448.82 270.002,1448.82 275.538,1448.82 \n",
       "  281.075,1448.82 286.612,1448.82 292.148,1448.82 297.685,1448.82 303.222,1448.82 308.758,1448.82 314.295,1448.82 319.831,1448.82 325.368,1448.82 330.905,1448.82 \n",
       "  336.441,1448.82 341.978,1448.82 347.515,1448.82 353.051,1448.82 358.588,1448.82 364.125,1448.82 369.661,1448.82 375.198,1448.82 380.735,1448.82 386.271,1448.82 \n",
       "  391.808,1448.82 397.345,1448.82 402.881,1448.82 408.418,1448.82 413.955,1448.82 419.491,1448.82 425.028,1448.82 430.565,1448.82 436.101,1448.82 441.638,1448.82 \n",
       "  447.174,160.33 452.711,160.33 458.248,160.33 463.784,160.33 469.321,160.33 474.858,160.33 480.394,160.33 485.931,160.33 491.468,160.33 497.004,160.33 \n",
       "  502.541,160.33 508.078,160.33 513.614,160.33 519.151,160.33 524.688,160.33 530.224,160.33 535.761,160.33 541.298,160.33 546.834,160.33 552.371,160.33 \n",
       "  557.908,160.33 563.444,160.33 568.981,160.33 574.518,160.33 580.054,160.33 585.591,160.33 591.127,160.33 596.664,160.33 602.201,160.33 607.737,160.33 \n",
       "  613.274,160.33 618.811,160.33 624.347,160.33 629.884,160.33 635.421,160.33 640.957,160.33 646.494,160.33 652.031,160.33 657.567,160.33 663.104,160.33 \n",
       "  668.641,160.33 674.177,160.33 679.714,160.33 685.251,160.33 690.787,160.33 696.324,160.33 701.861,160.33 707.397,160.33 712.934,160.33 718.47,160.33 \n",
       "  \n",
       "  \"/>\n",
       "<path clip-path=\"url(#clip0600)\" d=\"\n",
       "M962.819 1487.47 L1543.84 1487.47 L1543.84 121.675 L962.819 121.675  Z\n",
       "  \" fill=\"#ffffff\" fill-rule=\"evenodd\" fill-opacity=\"1\"/>\n",
       "<defs>\n",
       "  <clipPath id=\"clip0603\">\n",
       "    <rect x=\"962\" y=\"121\" width=\"582\" height=\"1367\"/>\n",
       "  </clipPath>\n",
       "</defs>\n",
       "<polyline clip-path=\"url(#clip0603)\" style=\"stroke:#000000; stroke-width:2; stroke-opacity:0.1; fill:none\" points=\"\n",
       "  979.263,1487.47 979.263,121.675 \n",
       "  \"/>\n",
       "<polyline clip-path=\"url(#clip0603)\" style=\"stroke:#000000; stroke-width:2; stroke-opacity:0.1; fill:none\" points=\"\n",
       "  1116.29,1487.47 1116.29,121.675 \n",
       "  \"/>\n",
       "<polyline clip-path=\"url(#clip0603)\" style=\"stroke:#000000; stroke-width:2; stroke-opacity:0.1; fill:none\" points=\"\n",
       "  1253.33,1487.47 1253.33,121.675 \n",
       "  \"/>\n",
       "<polyline clip-path=\"url(#clip0603)\" style=\"stroke:#000000; stroke-width:2; stroke-opacity:0.1; fill:none\" points=\"\n",
       "  1390.36,1487.47 1390.36,121.675 \n",
       "  \"/>\n",
       "<polyline clip-path=\"url(#clip0603)\" style=\"stroke:#000000; stroke-width:2; stroke-opacity:0.1; fill:none\" points=\"\n",
       "  1527.39,1487.47 1527.39,121.675 \n",
       "  \"/>\n",
       "<polyline clip-path=\"url(#clip0603)\" style=\"stroke:#000000; stroke-width:2; stroke-opacity:0.1; fill:none\" points=\"\n",
       "  962.819,1448.82 1543.84,1448.82 \n",
       "  \"/>\n",
       "<polyline clip-path=\"url(#clip0603)\" style=\"stroke:#000000; stroke-width:2; stroke-opacity:0.1; fill:none\" points=\"\n",
       "  962.819,1212.94 1543.84,1212.94 \n",
       "  \"/>\n",
       "<polyline clip-path=\"url(#clip0603)\" style=\"stroke:#000000; stroke-width:2; stroke-opacity:0.1; fill:none\" points=\"\n",
       "  962.819,977.069 1543.84,977.069 \n",
       "  \"/>\n",
       "<polyline clip-path=\"url(#clip0603)\" style=\"stroke:#000000; stroke-width:2; stroke-opacity:0.1; fill:none\" points=\"\n",
       "  962.819,741.193 1543.84,741.193 \n",
       "  \"/>\n",
       "<polyline clip-path=\"url(#clip0603)\" style=\"stroke:#000000; stroke-width:2; stroke-opacity:0.1; fill:none\" points=\"\n",
       "  962.819,505.317 1543.84,505.317 \n",
       "  \"/>\n",
       "<polyline clip-path=\"url(#clip0603)\" style=\"stroke:#000000; stroke-width:2; stroke-opacity:0.1; fill:none\" points=\"\n",
       "  962.819,269.442 1543.84,269.442 \n",
       "  \"/>\n",
       "<polyline clip-path=\"url(#clip0600)\" style=\"stroke:#000000; stroke-width:4; stroke-opacity:1; fill:none\" points=\"\n",
       "  962.819,1487.47 1543.84,1487.47 \n",
       "  \"/>\n",
       "<polyline clip-path=\"url(#clip0600)\" style=\"stroke:#000000; stroke-width:4; stroke-opacity:1; fill:none\" points=\"\n",
       "  962.819,1487.47 962.819,121.675 \n",
       "  \"/>\n",
       "<polyline clip-path=\"url(#clip0600)\" style=\"stroke:#000000; stroke-width:4; stroke-opacity:1; fill:none\" points=\"\n",
       "  979.263,1487.47 979.263,1466.99 \n",
       "  \"/>\n",
       "<polyline clip-path=\"url(#clip0600)\" style=\"stroke:#000000; stroke-width:4; stroke-opacity:1; fill:none\" points=\"\n",
       "  1116.29,1487.47 1116.29,1466.99 \n",
       "  \"/>\n",
       "<polyline clip-path=\"url(#clip0600)\" style=\"stroke:#000000; stroke-width:4; stroke-opacity:1; fill:none\" points=\"\n",
       "  1253.33,1487.47 1253.33,1466.99 \n",
       "  \"/>\n",
       "<polyline clip-path=\"url(#clip0600)\" style=\"stroke:#000000; stroke-width:4; stroke-opacity:1; fill:none\" points=\"\n",
       "  1390.36,1487.47 1390.36,1466.99 \n",
       "  \"/>\n",
       "<polyline clip-path=\"url(#clip0600)\" style=\"stroke:#000000; stroke-width:4; stroke-opacity:1; fill:none\" points=\"\n",
       "  1527.39,1487.47 1527.39,1466.99 \n",
       "  \"/>\n",
       "<polyline clip-path=\"url(#clip0600)\" style=\"stroke:#000000; stroke-width:4; stroke-opacity:1; fill:none\" points=\"\n",
       "  962.819,1448.82 971.534,1448.82 \n",
       "  \"/>\n",
       "<polyline clip-path=\"url(#clip0600)\" style=\"stroke:#000000; stroke-width:4; stroke-opacity:1; fill:none\" points=\"\n",
       "  962.819,1212.94 971.534,1212.94 \n",
       "  \"/>\n",
       "<polyline clip-path=\"url(#clip0600)\" style=\"stroke:#000000; stroke-width:4; stroke-opacity:1; fill:none\" points=\"\n",
       "  962.819,977.069 971.534,977.069 \n",
       "  \"/>\n",
       "<polyline clip-path=\"url(#clip0600)\" style=\"stroke:#000000; stroke-width:4; stroke-opacity:1; fill:none\" points=\"\n",
       "  962.819,741.193 971.534,741.193 \n",
       "  \"/>\n",
       "<polyline clip-path=\"url(#clip0600)\" style=\"stroke:#000000; stroke-width:4; stroke-opacity:1; fill:none\" points=\"\n",
       "  962.819,505.317 971.534,505.317 \n",
       "  \"/>\n",
       "<polyline clip-path=\"url(#clip0600)\" style=\"stroke:#000000; stroke-width:4; stroke-opacity:1; fill:none\" points=\"\n",
       "  962.819,269.442 971.534,269.442 \n",
       "  \"/>\n",
       "<g clip-path=\"url(#clip0600)\">\n",
       "<text style=\"fill:#000000; fill-opacity:1; font-family:Arial,Helvetica Neue,Helvetica,sans-serif; font-size:48px; text-anchor:middle;\" transform=\"rotate(0, 979.263, 1541.47)\" x=\"979.263\" y=\"1541.47\">0.00</text>\n",
       "</g>\n",
       "<g clip-path=\"url(#clip0600)\">\n",
       "<text style=\"fill:#000000; fill-opacity:1; font-family:Arial,Helvetica Neue,Helvetica,sans-serif; font-size:48px; text-anchor:middle;\" transform=\"rotate(0, 1116.29, 1541.47)\" x=\"1116.29\" y=\"1541.47\">0.25</text>\n",
       "</g>\n",
       "<g clip-path=\"url(#clip0600)\">\n",
       "<text style=\"fill:#000000; fill-opacity:1; font-family:Arial,Helvetica Neue,Helvetica,sans-serif; font-size:48px; text-anchor:middle;\" transform=\"rotate(0, 1253.33, 1541.47)\" x=\"1253.33\" y=\"1541.47\">0.50</text>\n",
       "</g>\n",
       "<g clip-path=\"url(#clip0600)\">\n",
       "<text style=\"fill:#000000; fill-opacity:1; font-family:Arial,Helvetica Neue,Helvetica,sans-serif; font-size:48px; text-anchor:middle;\" transform=\"rotate(0, 1390.36, 1541.47)\" x=\"1390.36\" y=\"1541.47\">0.75</text>\n",
       "</g>\n",
       "<g clip-path=\"url(#clip0600)\">\n",
       "<text style=\"fill:#000000; fill-opacity:1; font-family:Arial,Helvetica Neue,Helvetica,sans-serif; font-size:48px; text-anchor:middle;\" transform=\"rotate(0, 1527.39, 1541.47)\" x=\"1527.39\" y=\"1541.47\">1.00</text>\n",
       "</g>\n",
       "<g clip-path=\"url(#clip0600)\">\n",
       "<text style=\"fill:#000000; fill-opacity:1; font-family:Arial,Helvetica Neue,Helvetica,sans-serif; font-size:48px; text-anchor:end;\" transform=\"rotate(0, 938.819, 1466.32)\" x=\"938.819\" y=\"1466.32\">0.00</text>\n",
       "</g>\n",
       "<g clip-path=\"url(#clip0600)\">\n",
       "<text style=\"fill:#000000; fill-opacity:1; font-family:Arial,Helvetica Neue,Helvetica,sans-serif; font-size:48px; text-anchor:end;\" transform=\"rotate(0, 938.819, 1230.44)\" x=\"938.819\" y=\"1230.44\">0.05</text>\n",
       "</g>\n",
       "<g clip-path=\"url(#clip0600)\">\n",
       "<text style=\"fill:#000000; fill-opacity:1; font-family:Arial,Helvetica Neue,Helvetica,sans-serif; font-size:48px; text-anchor:end;\" transform=\"rotate(0, 938.819, 994.569)\" x=\"938.819\" y=\"994.569\">0.10</text>\n",
       "</g>\n",
       "<g clip-path=\"url(#clip0600)\">\n",
       "<text style=\"fill:#000000; fill-opacity:1; font-family:Arial,Helvetica Neue,Helvetica,sans-serif; font-size:48px; text-anchor:end;\" transform=\"rotate(0, 938.819, 758.693)\" x=\"938.819\" y=\"758.693\">0.15</text>\n",
       "</g>\n",
       "<g clip-path=\"url(#clip0600)\">\n",
       "<text style=\"fill:#000000; fill-opacity:1; font-family:Arial,Helvetica Neue,Helvetica,sans-serif; font-size:48px; text-anchor:end;\" transform=\"rotate(0, 938.819, 522.817)\" x=\"938.819\" y=\"522.817\">0.20</text>\n",
       "</g>\n",
       "<g clip-path=\"url(#clip0600)\">\n",
       "<text style=\"fill:#000000; fill-opacity:1; font-family:Arial,Helvetica Neue,Helvetica,sans-serif; font-size:48px; text-anchor:end;\" transform=\"rotate(0, 938.819, 286.942)\" x=\"938.819\" y=\"286.942\">0.25</text>\n",
       "</g>\n",
       "<g clip-path=\"url(#clip0600)\">\n",
       "<text style=\"fill:#000000; fill-opacity:1; font-family:Arial,Helvetica Neue,Helvetica,sans-serif; font-size:84px; text-anchor:middle;\" transform=\"rotate(0, 1253.33, 73.2)\" x=\"1253.33\" y=\"73.2\">Likelihood</text>\n",
       "</g>\n",
       "<polyline clip-path=\"url(#clip0603)\" style=\"stroke:#009af9; stroke-width:4; stroke-opacity:1; fill:none\" points=\"\n",
       "  979.263,1448.82 984.799,1448.82 990.336,1448.82 995.873,1448.82 1001.41,1448.82 1006.95,1448.81 1012.48,1448.8 1018.02,1448.78 1023.56,1448.73 1029.09,1448.65 \n",
       "  1034.63,1448.51 1040.17,1448.3 1045.7,1447.97 1051.24,1447.49 1056.78,1446.81 1062.31,1445.89 1067.85,1444.66 1073.39,1443.05 1078.92,1440.98 1084.46,1438.37 \n",
       "  1090,1435.13 1095.53,1431.16 1101.07,1426.37 1106.61,1420.63 1112.14,1413.85 1117.68,1405.9 1123.22,1396.69 1128.75,1386.09 1134.29,1374 1139.83,1360.32 \n",
       "  1145.36,1344.94 1150.9,1327.77 1156.44,1308.73 1161.97,1287.76 1167.51,1264.79 1173.05,1239.78 1178.58,1212.71 1184.12,1183.57 1189.66,1152.36 1195.19,1119.12 \n",
       "  1200.73,1083.91 1206.27,1046.79 1211.8,1007.86 1217.34,967.26 1222.88,925.123 1228.41,881.625 1233.95,836.963 1239.49,791.355 1245.02,745.045 1250.56,698.3 \n",
       "  1256.1,651.406 1261.63,604.668 1267.17,558.411 1272.71,512.974 1278.24,468.708 1283.78,425.975 1289.32,385.144 1294.85,346.589 1300.39,310.681 1305.93,277.791 \n",
       "  1311.46,248.279 1317,222.495 1322.54,200.773 1328.07,183.424 1333.61,170.735 1339.15,162.963 1344.68,160.33 1350.22,163.017 1355.76,171.163 1361.29,184.858 \n",
       "  1366.83,204.139 1372.36,228.988 1377.9,259.327 1383.44,295.014 1388.97,335.843 1394.51,381.543 1400.05,431.774 1405.58,486.126 1411.12,544.127 1416.66,605.236 \n",
       "  1422.19,668.853 1427.73,734.318 1433.27,800.924 1438.8,867.916 1444.34,934.51 1449.88,999.895 1455.41,1063.26 1460.95,1123.78 1466.49,1180.69 1472.02,1233.24 \n",
       "  1477.56,1280.76 1483.1,1322.7 1488.63,1358.6 1494.17,1388.2 1499.71,1411.41 1505.24,1428.41 1510.78,1439.65 1516.32,1445.93 1521.85,1448.44 1527.39,1448.82 \n",
       "  \n",
       "  \"/>\n",
       "<path clip-path=\"url(#clip0600)\" d=\"\n",
       "M1771.74 1487.47 L2352.76 1487.47 L2352.76 121.675 L1771.74 121.675  Z\n",
       "  \" fill=\"#ffffff\" fill-rule=\"evenodd\" fill-opacity=\"1\"/>\n",
       "<defs>\n",
       "  <clipPath id=\"clip0604\">\n",
       "    <rect x=\"1771\" y=\"121\" width=\"582\" height=\"1367\"/>\n",
       "  </clipPath>\n",
       "</defs>\n",
       "<polyline clip-path=\"url(#clip0604)\" style=\"stroke:#000000; stroke-width:2; stroke-opacity:0.1; fill:none\" points=\"\n",
       "  1788.18,1487.47 1788.18,121.675 \n",
       "  \"/>\n",
       "<polyline clip-path=\"url(#clip0604)\" style=\"stroke:#000000; stroke-width:2; stroke-opacity:0.1; fill:none\" points=\"\n",
       "  1925.22,1487.47 1925.22,121.675 \n",
       "  \"/>\n",
       "<polyline clip-path=\"url(#clip0604)\" style=\"stroke:#000000; stroke-width:2; stroke-opacity:0.1; fill:none\" points=\"\n",
       "  2062.25,1487.47 2062.25,121.675 \n",
       "  \"/>\n",
       "<polyline clip-path=\"url(#clip0604)\" style=\"stroke:#000000; stroke-width:2; stroke-opacity:0.1; fill:none\" points=\"\n",
       "  2199.28,1487.47 2199.28,121.675 \n",
       "  \"/>\n",
       "<polyline clip-path=\"url(#clip0604)\" style=\"stroke:#000000; stroke-width:2; stroke-opacity:0.1; fill:none\" points=\"\n",
       "  2336.31,1487.47 2336.31,121.675 \n",
       "  \"/>\n",
       "<polyline clip-path=\"url(#clip0604)\" style=\"stroke:#000000; stroke-width:2; stroke-opacity:0.1; fill:none\" points=\"\n",
       "  1771.74,1448.82 2352.76,1448.82 \n",
       "  \"/>\n",
       "<polyline clip-path=\"url(#clip0604)\" style=\"stroke:#000000; stroke-width:2; stroke-opacity:0.1; fill:none\" points=\"\n",
       "  1771.74,1062.04 2352.76,1062.04 \n",
       "  \"/>\n",
       "<polyline clip-path=\"url(#clip0604)\" style=\"stroke:#000000; stroke-width:2; stroke-opacity:0.1; fill:none\" points=\"\n",
       "  1771.74,675.256 2352.76,675.256 \n",
       "  \"/>\n",
       "<polyline clip-path=\"url(#clip0604)\" style=\"stroke:#000000; stroke-width:2; stroke-opacity:0.1; fill:none\" points=\"\n",
       "  1771.74,288.474 2352.76,288.474 \n",
       "  \"/>\n",
       "<polyline clip-path=\"url(#clip0600)\" style=\"stroke:#000000; stroke-width:4; stroke-opacity:1; fill:none\" points=\"\n",
       "  1771.74,1487.47 2352.76,1487.47 \n",
       "  \"/>\n",
       "<polyline clip-path=\"url(#clip0600)\" style=\"stroke:#000000; stroke-width:4; stroke-opacity:1; fill:none\" points=\"\n",
       "  1771.74,1487.47 1771.74,121.675 \n",
       "  \"/>\n",
       "<polyline clip-path=\"url(#clip0600)\" style=\"stroke:#000000; stroke-width:4; stroke-opacity:1; fill:none\" points=\"\n",
       "  1788.18,1487.47 1788.18,1466.99 \n",
       "  \"/>\n",
       "<polyline clip-path=\"url(#clip0600)\" style=\"stroke:#000000; stroke-width:4; stroke-opacity:1; fill:none\" points=\"\n",
       "  1925.22,1487.47 1925.22,1466.99 \n",
       "  \"/>\n",
       "<polyline clip-path=\"url(#clip0600)\" style=\"stroke:#000000; stroke-width:4; stroke-opacity:1; fill:none\" points=\"\n",
       "  2062.25,1487.47 2062.25,1466.99 \n",
       "  \"/>\n",
       "<polyline clip-path=\"url(#clip0600)\" style=\"stroke:#000000; stroke-width:4; stroke-opacity:1; fill:none\" points=\"\n",
       "  2199.28,1487.47 2199.28,1466.99 \n",
       "  \"/>\n",
       "<polyline clip-path=\"url(#clip0600)\" style=\"stroke:#000000; stroke-width:4; stroke-opacity:1; fill:none\" points=\"\n",
       "  2336.31,1487.47 2336.31,1466.99 \n",
       "  \"/>\n",
       "<polyline clip-path=\"url(#clip0600)\" style=\"stroke:#000000; stroke-width:4; stroke-opacity:1; fill:none\" points=\"\n",
       "  1771.74,1448.82 1780.45,1448.82 \n",
       "  \"/>\n",
       "<polyline clip-path=\"url(#clip0600)\" style=\"stroke:#000000; stroke-width:4; stroke-opacity:1; fill:none\" points=\"\n",
       "  1771.74,1062.04 1780.45,1062.04 \n",
       "  \"/>\n",
       "<polyline clip-path=\"url(#clip0600)\" style=\"stroke:#000000; stroke-width:4; stroke-opacity:1; fill:none\" points=\"\n",
       "  1771.74,675.256 1780.45,675.256 \n",
       "  \"/>\n",
       "<polyline clip-path=\"url(#clip0600)\" style=\"stroke:#000000; stroke-width:4; stroke-opacity:1; fill:none\" points=\"\n",
       "  1771.74,288.474 1780.45,288.474 \n",
       "  \"/>\n",
       "<g clip-path=\"url(#clip0600)\">\n",
       "<text style=\"fill:#000000; fill-opacity:1; font-family:Arial,Helvetica Neue,Helvetica,sans-serif; font-size:48px; text-anchor:middle;\" transform=\"rotate(0, 1788.18, 1541.47)\" x=\"1788.18\" y=\"1541.47\">0.00</text>\n",
       "</g>\n",
       "<g clip-path=\"url(#clip0600)\">\n",
       "<text style=\"fill:#000000; fill-opacity:1; font-family:Arial,Helvetica Neue,Helvetica,sans-serif; font-size:48px; text-anchor:middle;\" transform=\"rotate(0, 1925.22, 1541.47)\" x=\"1925.22\" y=\"1541.47\">0.25</text>\n",
       "</g>\n",
       "<g clip-path=\"url(#clip0600)\">\n",
       "<text style=\"fill:#000000; fill-opacity:1; font-family:Arial,Helvetica Neue,Helvetica,sans-serif; font-size:48px; text-anchor:middle;\" transform=\"rotate(0, 2062.25, 1541.47)\" x=\"2062.25\" y=\"1541.47\">0.50</text>\n",
       "</g>\n",
       "<g clip-path=\"url(#clip0600)\">\n",
       "<text style=\"fill:#000000; fill-opacity:1; font-family:Arial,Helvetica Neue,Helvetica,sans-serif; font-size:48px; text-anchor:middle;\" transform=\"rotate(0, 2199.28, 1541.47)\" x=\"2199.28\" y=\"1541.47\">0.75</text>\n",
       "</g>\n",
       "<g clip-path=\"url(#clip0600)\">\n",
       "<text style=\"fill:#000000; fill-opacity:1; font-family:Arial,Helvetica Neue,Helvetica,sans-serif; font-size:48px; text-anchor:middle;\" transform=\"rotate(0, 2336.31, 1541.47)\" x=\"2336.31\" y=\"1541.47\">1.00</text>\n",
       "</g>\n",
       "<g clip-path=\"url(#clip0600)\">\n",
       "<text style=\"fill:#000000; fill-opacity:1; font-family:Arial,Helvetica Neue,Helvetica,sans-serif; font-size:48px; text-anchor:end;\" transform=\"rotate(0, 1747.74, 1466.32)\" x=\"1747.74\" y=\"1466.32\">0.00</text>\n",
       "</g>\n",
       "<g clip-path=\"url(#clip0600)\">\n",
       "<text style=\"fill:#000000; fill-opacity:1; font-family:Arial,Helvetica Neue,Helvetica,sans-serif; font-size:48px; text-anchor:end;\" transform=\"rotate(0, 1747.74, 1079.54)\" x=\"1747.74\" y=\"1079.54\">0.01</text>\n",
       "</g>\n",
       "<g clip-path=\"url(#clip0600)\">\n",
       "<text style=\"fill:#000000; fill-opacity:1; font-family:Arial,Helvetica Neue,Helvetica,sans-serif; font-size:48px; text-anchor:end;\" transform=\"rotate(0, 1747.74, 692.756)\" x=\"1747.74\" y=\"692.756\">0.02</text>\n",
       "</g>\n",
       "<g clip-path=\"url(#clip0600)\">\n",
       "<text style=\"fill:#000000; fill-opacity:1; font-family:Arial,Helvetica Neue,Helvetica,sans-serif; font-size:48px; text-anchor:end;\" transform=\"rotate(0, 1747.74, 305.974)\" x=\"1747.74\" y=\"305.974\">0.03</text>\n",
       "</g>\n",
       "<g clip-path=\"url(#clip0600)\">\n",
       "<text style=\"fill:#000000; fill-opacity:1; font-family:Arial,Helvetica Neue,Helvetica,sans-serif; font-size:84px; text-anchor:middle;\" transform=\"rotate(0, 2062.25, 73.2)\" x=\"2062.25\" y=\"73.2\">Posterior</text>\n",
       "</g>\n",
       "<polyline clip-path=\"url(#clip0604)\" style=\"stroke:#009af9; stroke-width:4; stroke-opacity:1; fill:none\" points=\"\n",
       "  1788.18,1448.82 1793.72,1448.82 1799.26,1448.82 1804.79,1448.82 1810.33,1448.82 1815.87,1448.82 1821.4,1448.82 1826.94,1448.82 1832.48,1448.82 1838.01,1448.82 \n",
       "  1843.55,1448.82 1849.09,1448.82 1854.62,1448.82 1860.16,1448.82 1865.7,1448.82 1871.23,1448.82 1876.77,1448.82 1882.31,1448.82 1887.84,1448.82 1893.38,1448.82 \n",
       "  1898.92,1448.82 1904.45,1448.82 1909.99,1448.82 1915.53,1448.82 1921.06,1448.82 1926.6,1448.82 1932.14,1448.82 1937.67,1448.82 1943.21,1448.82 1948.75,1448.82 \n",
       "  1954.28,1448.82 1959.82,1448.82 1965.36,1448.82 1970.89,1448.82 1976.43,1448.82 1981.97,1448.82 1987.5,1448.82 1993.04,1448.82 1998.58,1448.82 2004.11,1448.82 \n",
       "  2009.65,1448.82 2015.19,1448.82 2020.72,1448.82 2026.26,1448.82 2031.8,1448.82 2037.33,1448.82 2042.87,1448.82 2048.41,1448.82 2053.94,1448.82 2059.48,1448.82 \n",
       "  2065.02,651.406 2070.55,604.668 2076.09,558.411 2081.63,512.974 2087.16,468.708 2092.7,425.975 2098.24,385.144 2103.77,346.589 2109.31,310.681 2114.85,277.791 \n",
       "  2120.38,248.279 2125.92,222.495 2131.46,200.773 2136.99,183.424 2142.53,170.735 2148.07,162.963 2153.6,160.33 2159.14,163.017 2164.68,171.163 2170.21,184.858 \n",
       "  2175.75,204.139 2181.29,228.988 2186.82,259.327 2192.36,295.014 2197.9,335.843 2203.43,381.543 2208.97,431.774 2214.51,486.126 2220.04,544.127 2225.58,605.236 \n",
       "  2231.12,668.853 2236.65,734.318 2242.19,800.924 2247.73,867.916 2253.26,934.51 2258.8,999.895 2264.34,1063.26 2269.87,1123.78 2275.41,1180.69 2280.95,1233.24 \n",
       "  2286.48,1280.76 2292.02,1322.7 2297.56,1358.6 2303.09,1388.2 2308.63,1411.41 2314.17,1428.41 2319.7,1439.65 2325.24,1445.93 2330.78,1448.44 2336.31,1448.82 \n",
       "  \n",
       "  \"/>\n",
       "</svg>\n"
      ]
     },
     "execution_count": 72,
     "metadata": {},
     "output_type": "execute_result"
    }
   ],
   "source": [
    "prior2 = 0.5 * (p_grid .>= 0.5)\n",
    "posterior2 = computePosterior(likelihood, prior2)"
   ]
  },
  {
   "cell_type": "code",
   "execution_count": 73,
   "metadata": {},
   "outputs": [
    {
     "data": {
      "image/svg+xml": [
       "<?xml version=\"1.0\" encoding=\"utf-8\"?>\n",
       "<svg xmlns=\"http://www.w3.org/2000/svg\" xmlns:xlink=\"http://www.w3.org/1999/xlink\" width=\"600\" height=\"400\" viewBox=\"0 0 2400 1600\">\n",
       "<defs>\n",
       "  <clipPath id=\"clip1000\">\n",
       "    <rect x=\"0\" y=\"0\" width=\"2400\" height=\"1600\"/>\n",
       "  </clipPath>\n",
       "</defs>\n",
       "<path clip-path=\"url(#clip1000)\" d=\"\n",
       "M0 1600 L2400 1600 L2400 0 L0 0  Z\n",
       "  \" fill=\"#ffffff\" fill-rule=\"evenodd\" fill-opacity=\"1\"/>\n",
       "<defs>\n",
       "  <clipPath id=\"clip1001\">\n",
       "    <rect x=\"480\" y=\"0\" width=\"1681\" height=\"1600\"/>\n",
       "  </clipPath>\n",
       "</defs>\n",
       "<path clip-path=\"url(#clip1000)\" d=\"\n",
       "M153.898 1487.47 L734.914 1487.47 L734.914 121.675 L153.898 121.675  Z\n",
       "  \" fill=\"#ffffff\" fill-rule=\"evenodd\" fill-opacity=\"1\"/>\n",
       "<defs>\n",
       "  <clipPath id=\"clip1002\">\n",
       "    <rect x=\"153\" y=\"121\" width=\"582\" height=\"1367\"/>\n",
       "  </clipPath>\n",
       "</defs>\n",
       "<polyline clip-path=\"url(#clip1002)\" style=\"stroke:#000000; stroke-width:2; stroke-opacity:0.1; fill:none\" points=\"\n",
       "  170.342,1487.47 170.342,121.675 \n",
       "  \"/>\n",
       "<polyline clip-path=\"url(#clip1002)\" style=\"stroke:#000000; stroke-width:2; stroke-opacity:0.1; fill:none\" points=\"\n",
       "  307.374,1487.47 307.374,121.675 \n",
       "  \"/>\n",
       "<polyline clip-path=\"url(#clip1002)\" style=\"stroke:#000000; stroke-width:2; stroke-opacity:0.1; fill:none\" points=\"\n",
       "  444.406,1487.47 444.406,121.675 \n",
       "  \"/>\n",
       "<polyline clip-path=\"url(#clip1002)\" style=\"stroke:#000000; stroke-width:2; stroke-opacity:0.1; fill:none\" points=\"\n",
       "  581.438,1487.47 581.438,121.675 \n",
       "  \"/>\n",
       "<polyline clip-path=\"url(#clip1002)\" style=\"stroke:#000000; stroke-width:2; stroke-opacity:0.1; fill:none\" points=\"\n",
       "  718.47,1487.47 718.47,121.675 \n",
       "  \"/>\n",
       "<polyline clip-path=\"url(#clip1002)\" style=\"stroke:#000000; stroke-width:2; stroke-opacity:0.1; fill:none\" points=\"\n",
       "  153.898,1278.68 734.914,1278.68 \n",
       "  \"/>\n",
       "<polyline clip-path=\"url(#clip1002)\" style=\"stroke:#000000; stroke-width:2; stroke-opacity:0.1; fill:none\" points=\"\n",
       "  153.898,990.096 734.914,990.096 \n",
       "  \"/>\n",
       "<polyline clip-path=\"url(#clip1002)\" style=\"stroke:#000000; stroke-width:2; stroke-opacity:0.1; fill:none\" points=\"\n",
       "  153.898,701.514 734.914,701.514 \n",
       "  \"/>\n",
       "<polyline clip-path=\"url(#clip1002)\" style=\"stroke:#000000; stroke-width:2; stroke-opacity:0.1; fill:none\" points=\"\n",
       "  153.898,412.931 734.914,412.931 \n",
       "  \"/>\n",
       "<polyline clip-path=\"url(#clip1002)\" style=\"stroke:#000000; stroke-width:2; stroke-opacity:0.1; fill:none\" points=\"\n",
       "  153.898,124.349 734.914,124.349 \n",
       "  \"/>\n",
       "<polyline clip-path=\"url(#clip1000)\" style=\"stroke:#000000; stroke-width:4; stroke-opacity:1; fill:none\" points=\"\n",
       "  153.898,1487.47 734.914,1487.47 \n",
       "  \"/>\n",
       "<polyline clip-path=\"url(#clip1000)\" style=\"stroke:#000000; stroke-width:4; stroke-opacity:1; fill:none\" points=\"\n",
       "  153.898,1487.47 153.898,121.675 \n",
       "  \"/>\n",
       "<polyline clip-path=\"url(#clip1000)\" style=\"stroke:#000000; stroke-width:4; stroke-opacity:1; fill:none\" points=\"\n",
       "  170.342,1487.47 170.342,1466.99 \n",
       "  \"/>\n",
       "<polyline clip-path=\"url(#clip1000)\" style=\"stroke:#000000; stroke-width:4; stroke-opacity:1; fill:none\" points=\"\n",
       "  307.374,1487.47 307.374,1466.99 \n",
       "  \"/>\n",
       "<polyline clip-path=\"url(#clip1000)\" style=\"stroke:#000000; stroke-width:4; stroke-opacity:1; fill:none\" points=\"\n",
       "  444.406,1487.47 444.406,1466.99 \n",
       "  \"/>\n",
       "<polyline clip-path=\"url(#clip1000)\" style=\"stroke:#000000; stroke-width:4; stroke-opacity:1; fill:none\" points=\"\n",
       "  581.438,1487.47 581.438,1466.99 \n",
       "  \"/>\n",
       "<polyline clip-path=\"url(#clip1000)\" style=\"stroke:#000000; stroke-width:4; stroke-opacity:1; fill:none\" points=\"\n",
       "  718.47,1487.47 718.47,1466.99 \n",
       "  \"/>\n",
       "<polyline clip-path=\"url(#clip1000)\" style=\"stroke:#000000; stroke-width:4; stroke-opacity:1; fill:none\" points=\"\n",
       "  153.898,1278.68 162.613,1278.68 \n",
       "  \"/>\n",
       "<polyline clip-path=\"url(#clip1000)\" style=\"stroke:#000000; stroke-width:4; stroke-opacity:1; fill:none\" points=\"\n",
       "  153.898,990.096 162.613,990.096 \n",
       "  \"/>\n",
       "<polyline clip-path=\"url(#clip1000)\" style=\"stroke:#000000; stroke-width:4; stroke-opacity:1; fill:none\" points=\"\n",
       "  153.898,701.514 162.613,701.514 \n",
       "  \"/>\n",
       "<polyline clip-path=\"url(#clip1000)\" style=\"stroke:#000000; stroke-width:4; stroke-opacity:1; fill:none\" points=\"\n",
       "  153.898,412.931 162.613,412.931 \n",
       "  \"/>\n",
       "<polyline clip-path=\"url(#clip1000)\" style=\"stroke:#000000; stroke-width:4; stroke-opacity:1; fill:none\" points=\"\n",
       "  153.898,124.349 162.613,124.349 \n",
       "  \"/>\n",
       "<g clip-path=\"url(#clip1000)\">\n",
       "<text style=\"fill:#000000; fill-opacity:1; font-family:Arial,Helvetica Neue,Helvetica,sans-serif; font-size:48px; text-anchor:middle;\" transform=\"rotate(0, 170.342, 1541.47)\" x=\"170.342\" y=\"1541.47\">0.00</text>\n",
       "</g>\n",
       "<g clip-path=\"url(#clip1000)\">\n",
       "<text style=\"fill:#000000; fill-opacity:1; font-family:Arial,Helvetica Neue,Helvetica,sans-serif; font-size:48px; text-anchor:middle;\" transform=\"rotate(0, 307.374, 1541.47)\" x=\"307.374\" y=\"1541.47\">0.25</text>\n",
       "</g>\n",
       "<g clip-path=\"url(#clip1000)\">\n",
       "<text style=\"fill:#000000; fill-opacity:1; font-family:Arial,Helvetica Neue,Helvetica,sans-serif; font-size:48px; text-anchor:middle;\" transform=\"rotate(0, 444.406, 1541.47)\" x=\"444.406\" y=\"1541.47\">0.50</text>\n",
       "</g>\n",
       "<g clip-path=\"url(#clip1000)\">\n",
       "<text style=\"fill:#000000; fill-opacity:1; font-family:Arial,Helvetica Neue,Helvetica,sans-serif; font-size:48px; text-anchor:middle;\" transform=\"rotate(0, 581.438, 1541.47)\" x=\"581.438\" y=\"1541.47\">0.75</text>\n",
       "</g>\n",
       "<g clip-path=\"url(#clip1000)\">\n",
       "<text style=\"fill:#000000; fill-opacity:1; font-family:Arial,Helvetica Neue,Helvetica,sans-serif; font-size:48px; text-anchor:middle;\" transform=\"rotate(0, 718.47, 1541.47)\" x=\"718.47\" y=\"1541.47\">1.00</text>\n",
       "</g>\n",
       "<g clip-path=\"url(#clip1000)\">\n",
       "<text style=\"fill:#000000; fill-opacity:1; font-family:Arial,Helvetica Neue,Helvetica,sans-serif; font-size:48px; text-anchor:end;\" transform=\"rotate(0, 129.898, 1296.18)\" x=\"129.898\" y=\"1296.18\">0.2</text>\n",
       "</g>\n",
       "<g clip-path=\"url(#clip1000)\">\n",
       "<text style=\"fill:#000000; fill-opacity:1; font-family:Arial,Helvetica Neue,Helvetica,sans-serif; font-size:48px; text-anchor:end;\" transform=\"rotate(0, 129.898, 1007.6)\" x=\"129.898\" y=\"1007.6\">0.4</text>\n",
       "</g>\n",
       "<g clip-path=\"url(#clip1000)\">\n",
       "<text style=\"fill:#000000; fill-opacity:1; font-family:Arial,Helvetica Neue,Helvetica,sans-serif; font-size:48px; text-anchor:end;\" transform=\"rotate(0, 129.898, 719.014)\" x=\"129.898\" y=\"719.014\">0.6</text>\n",
       "</g>\n",
       "<g clip-path=\"url(#clip1000)\">\n",
       "<text style=\"fill:#000000; fill-opacity:1; font-family:Arial,Helvetica Neue,Helvetica,sans-serif; font-size:48px; text-anchor:end;\" transform=\"rotate(0, 129.898, 430.431)\" x=\"129.898\" y=\"430.431\">0.8</text>\n",
       "</g>\n",
       "<g clip-path=\"url(#clip1000)\">\n",
       "<text style=\"fill:#000000; fill-opacity:1; font-family:Arial,Helvetica Neue,Helvetica,sans-serif; font-size:48px; text-anchor:end;\" transform=\"rotate(0, 129.898, 141.849)\" x=\"129.898\" y=\"141.849\">1.0</text>\n",
       "</g>\n",
       "<g clip-path=\"url(#clip1000)\">\n",
       "<text style=\"fill:#000000; fill-opacity:1; font-family:Arial,Helvetica Neue,Helvetica,sans-serif; font-size:84px; text-anchor:middle;\" transform=\"rotate(0, 444.406, 73.2)\" x=\"444.406\" y=\"73.2\">Prior</text>\n",
       "</g>\n",
       "<polyline clip-path=\"url(#clip1002)\" style=\"stroke:#009af9; stroke-width:4; stroke-opacity:1; fill:none\" points=\"\n",
       "  170.342,1448.82 175.878,1442.68 181.415,1436.23 186.952,1429.44 192.488,1422.3 198.025,1414.8 203.562,1406.9 209.098,1398.59 214.635,1389.85 220.172,1380.66 \n",
       "  225.708,1371 231.245,1360.83 236.782,1350.14 242.318,1338.89 247.855,1327.06 253.392,1314.61 258.928,1301.53 264.465,1287.76 270.002,1273.28 275.538,1258.05 \n",
       "  281.075,1242.04 286.612,1225.19 292.148,1207.47 297.685,1188.83 303.222,1169.23 308.758,1148.61 314.295,1126.92 319.831,1104.11 325.368,1080.12 330.905,1054.88 \n",
       "  336.441,1028.34 341.978,1000.42 347.515,971.059 353.051,940.174 358.588,907.69 364.125,873.523 369.661,837.585 375.198,799.787 380.735,760.03 386.271,718.213 \n",
       "  391.808,674.231 397.345,627.97 402.881,579.312 408.418,528.135 413.955,474.305 419.491,417.688 425.028,358.138 430.565,295.502 436.101,229.622 441.638,160.33 \n",
       "  447.174,160.33 452.711,229.622 458.248,295.502 463.784,358.138 469.321,417.688 474.858,474.305 480.394,528.135 485.931,579.312 491.468,627.97 497.004,674.231 \n",
       "  502.541,718.213 508.078,760.03 513.614,799.787 519.151,837.585 524.688,873.523 530.224,907.69 535.761,940.174 541.298,971.059 546.834,1000.42 552.371,1028.34 \n",
       "  557.908,1054.88 563.444,1080.12 568.981,1104.11 574.518,1126.92 580.054,1148.61 585.591,1169.23 591.127,1188.83 596.664,1207.47 602.201,1225.19 607.737,1242.04 \n",
       "  613.274,1258.05 618.811,1273.28 624.347,1287.76 629.884,1301.53 635.421,1314.61 640.957,1327.06 646.494,1338.89 652.031,1350.14 657.567,1360.83 663.104,1371 \n",
       "  668.641,1380.66 674.177,1389.85 679.714,1398.59 685.251,1406.9 690.787,1414.8 696.324,1422.3 701.861,1429.44 707.397,1436.23 712.934,1442.68 718.47,1448.82 \n",
       "  \n",
       "  \"/>\n",
       "<path clip-path=\"url(#clip1000)\" d=\"\n",
       "M962.819 1487.47 L1543.84 1487.47 L1543.84 121.675 L962.819 121.675  Z\n",
       "  \" fill=\"#ffffff\" fill-rule=\"evenodd\" fill-opacity=\"1\"/>\n",
       "<defs>\n",
       "  <clipPath id=\"clip1003\">\n",
       "    <rect x=\"962\" y=\"121\" width=\"582\" height=\"1367\"/>\n",
       "  </clipPath>\n",
       "</defs>\n",
       "<polyline clip-path=\"url(#clip1003)\" style=\"stroke:#000000; stroke-width:2; stroke-opacity:0.1; fill:none\" points=\"\n",
       "  979.263,1487.47 979.263,121.675 \n",
       "  \"/>\n",
       "<polyline clip-path=\"url(#clip1003)\" style=\"stroke:#000000; stroke-width:2; stroke-opacity:0.1; fill:none\" points=\"\n",
       "  1116.29,1487.47 1116.29,121.675 \n",
       "  \"/>\n",
       "<polyline clip-path=\"url(#clip1003)\" style=\"stroke:#000000; stroke-width:2; stroke-opacity:0.1; fill:none\" points=\"\n",
       "  1253.33,1487.47 1253.33,121.675 \n",
       "  \"/>\n",
       "<polyline clip-path=\"url(#clip1003)\" style=\"stroke:#000000; stroke-width:2; stroke-opacity:0.1; fill:none\" points=\"\n",
       "  1390.36,1487.47 1390.36,121.675 \n",
       "  \"/>\n",
       "<polyline clip-path=\"url(#clip1003)\" style=\"stroke:#000000; stroke-width:2; stroke-opacity:0.1; fill:none\" points=\"\n",
       "  1527.39,1487.47 1527.39,121.675 \n",
       "  \"/>\n",
       "<polyline clip-path=\"url(#clip1003)\" style=\"stroke:#000000; stroke-width:2; stroke-opacity:0.1; fill:none\" points=\"\n",
       "  962.819,1448.82 1543.84,1448.82 \n",
       "  \"/>\n",
       "<polyline clip-path=\"url(#clip1003)\" style=\"stroke:#000000; stroke-width:2; stroke-opacity:0.1; fill:none\" points=\"\n",
       "  962.819,1212.94 1543.84,1212.94 \n",
       "  \"/>\n",
       "<polyline clip-path=\"url(#clip1003)\" style=\"stroke:#000000; stroke-width:2; stroke-opacity:0.1; fill:none\" points=\"\n",
       "  962.819,977.069 1543.84,977.069 \n",
       "  \"/>\n",
       "<polyline clip-path=\"url(#clip1003)\" style=\"stroke:#000000; stroke-width:2; stroke-opacity:0.1; fill:none\" points=\"\n",
       "  962.819,741.193 1543.84,741.193 \n",
       "  \"/>\n",
       "<polyline clip-path=\"url(#clip1003)\" style=\"stroke:#000000; stroke-width:2; stroke-opacity:0.1; fill:none\" points=\"\n",
       "  962.819,505.317 1543.84,505.317 \n",
       "  \"/>\n",
       "<polyline clip-path=\"url(#clip1003)\" style=\"stroke:#000000; stroke-width:2; stroke-opacity:0.1; fill:none\" points=\"\n",
       "  962.819,269.442 1543.84,269.442 \n",
       "  \"/>\n",
       "<polyline clip-path=\"url(#clip1000)\" style=\"stroke:#000000; stroke-width:4; stroke-opacity:1; fill:none\" points=\"\n",
       "  962.819,1487.47 1543.84,1487.47 \n",
       "  \"/>\n",
       "<polyline clip-path=\"url(#clip1000)\" style=\"stroke:#000000; stroke-width:4; stroke-opacity:1; fill:none\" points=\"\n",
       "  962.819,1487.47 962.819,121.675 \n",
       "  \"/>\n",
       "<polyline clip-path=\"url(#clip1000)\" style=\"stroke:#000000; stroke-width:4; stroke-opacity:1; fill:none\" points=\"\n",
       "  979.263,1487.47 979.263,1466.99 \n",
       "  \"/>\n",
       "<polyline clip-path=\"url(#clip1000)\" style=\"stroke:#000000; stroke-width:4; stroke-opacity:1; fill:none\" points=\"\n",
       "  1116.29,1487.47 1116.29,1466.99 \n",
       "  \"/>\n",
       "<polyline clip-path=\"url(#clip1000)\" style=\"stroke:#000000; stroke-width:4; stroke-opacity:1; fill:none\" points=\"\n",
       "  1253.33,1487.47 1253.33,1466.99 \n",
       "  \"/>\n",
       "<polyline clip-path=\"url(#clip1000)\" style=\"stroke:#000000; stroke-width:4; stroke-opacity:1; fill:none\" points=\"\n",
       "  1390.36,1487.47 1390.36,1466.99 \n",
       "  \"/>\n",
       "<polyline clip-path=\"url(#clip1000)\" style=\"stroke:#000000; stroke-width:4; stroke-opacity:1; fill:none\" points=\"\n",
       "  1527.39,1487.47 1527.39,1466.99 \n",
       "  \"/>\n",
       "<polyline clip-path=\"url(#clip1000)\" style=\"stroke:#000000; stroke-width:4; stroke-opacity:1; fill:none\" points=\"\n",
       "  962.819,1448.82 971.534,1448.82 \n",
       "  \"/>\n",
       "<polyline clip-path=\"url(#clip1000)\" style=\"stroke:#000000; stroke-width:4; stroke-opacity:1; fill:none\" points=\"\n",
       "  962.819,1212.94 971.534,1212.94 \n",
       "  \"/>\n",
       "<polyline clip-path=\"url(#clip1000)\" style=\"stroke:#000000; stroke-width:4; stroke-opacity:1; fill:none\" points=\"\n",
       "  962.819,977.069 971.534,977.069 \n",
       "  \"/>\n",
       "<polyline clip-path=\"url(#clip1000)\" style=\"stroke:#000000; stroke-width:4; stroke-opacity:1; fill:none\" points=\"\n",
       "  962.819,741.193 971.534,741.193 \n",
       "  \"/>\n",
       "<polyline clip-path=\"url(#clip1000)\" style=\"stroke:#000000; stroke-width:4; stroke-opacity:1; fill:none\" points=\"\n",
       "  962.819,505.317 971.534,505.317 \n",
       "  \"/>\n",
       "<polyline clip-path=\"url(#clip1000)\" style=\"stroke:#000000; stroke-width:4; stroke-opacity:1; fill:none\" points=\"\n",
       "  962.819,269.442 971.534,269.442 \n",
       "  \"/>\n",
       "<g clip-path=\"url(#clip1000)\">\n",
       "<text style=\"fill:#000000; fill-opacity:1; font-family:Arial,Helvetica Neue,Helvetica,sans-serif; font-size:48px; text-anchor:middle;\" transform=\"rotate(0, 979.263, 1541.47)\" x=\"979.263\" y=\"1541.47\">0.00</text>\n",
       "</g>\n",
       "<g clip-path=\"url(#clip1000)\">\n",
       "<text style=\"fill:#000000; fill-opacity:1; font-family:Arial,Helvetica Neue,Helvetica,sans-serif; font-size:48px; text-anchor:middle;\" transform=\"rotate(0, 1116.29, 1541.47)\" x=\"1116.29\" y=\"1541.47\">0.25</text>\n",
       "</g>\n",
       "<g clip-path=\"url(#clip1000)\">\n",
       "<text style=\"fill:#000000; fill-opacity:1; font-family:Arial,Helvetica Neue,Helvetica,sans-serif; font-size:48px; text-anchor:middle;\" transform=\"rotate(0, 1253.33, 1541.47)\" x=\"1253.33\" y=\"1541.47\">0.50</text>\n",
       "</g>\n",
       "<g clip-path=\"url(#clip1000)\">\n",
       "<text style=\"fill:#000000; fill-opacity:1; font-family:Arial,Helvetica Neue,Helvetica,sans-serif; font-size:48px; text-anchor:middle;\" transform=\"rotate(0, 1390.36, 1541.47)\" x=\"1390.36\" y=\"1541.47\">0.75</text>\n",
       "</g>\n",
       "<g clip-path=\"url(#clip1000)\">\n",
       "<text style=\"fill:#000000; fill-opacity:1; font-family:Arial,Helvetica Neue,Helvetica,sans-serif; font-size:48px; text-anchor:middle;\" transform=\"rotate(0, 1527.39, 1541.47)\" x=\"1527.39\" y=\"1541.47\">1.00</text>\n",
       "</g>\n",
       "<g clip-path=\"url(#clip1000)\">\n",
       "<text style=\"fill:#000000; fill-opacity:1; font-family:Arial,Helvetica Neue,Helvetica,sans-serif; font-size:48px; text-anchor:end;\" transform=\"rotate(0, 938.819, 1466.32)\" x=\"938.819\" y=\"1466.32\">0.00</text>\n",
       "</g>\n",
       "<g clip-path=\"url(#clip1000)\">\n",
       "<text style=\"fill:#000000; fill-opacity:1; font-family:Arial,Helvetica Neue,Helvetica,sans-serif; font-size:48px; text-anchor:end;\" transform=\"rotate(0, 938.819, 1230.44)\" x=\"938.819\" y=\"1230.44\">0.05</text>\n",
       "</g>\n",
       "<g clip-path=\"url(#clip1000)\">\n",
       "<text style=\"fill:#000000; fill-opacity:1; font-family:Arial,Helvetica Neue,Helvetica,sans-serif; font-size:48px; text-anchor:end;\" transform=\"rotate(0, 938.819, 994.569)\" x=\"938.819\" y=\"994.569\">0.10</text>\n",
       "</g>\n",
       "<g clip-path=\"url(#clip1000)\">\n",
       "<text style=\"fill:#000000; fill-opacity:1; font-family:Arial,Helvetica Neue,Helvetica,sans-serif; font-size:48px; text-anchor:end;\" transform=\"rotate(0, 938.819, 758.693)\" x=\"938.819\" y=\"758.693\">0.15</text>\n",
       "</g>\n",
       "<g clip-path=\"url(#clip1000)\">\n",
       "<text style=\"fill:#000000; fill-opacity:1; font-family:Arial,Helvetica Neue,Helvetica,sans-serif; font-size:48px; text-anchor:end;\" transform=\"rotate(0, 938.819, 522.817)\" x=\"938.819\" y=\"522.817\">0.20</text>\n",
       "</g>\n",
       "<g clip-path=\"url(#clip1000)\">\n",
       "<text style=\"fill:#000000; fill-opacity:1; font-family:Arial,Helvetica Neue,Helvetica,sans-serif; font-size:48px; text-anchor:end;\" transform=\"rotate(0, 938.819, 286.942)\" x=\"938.819\" y=\"286.942\">0.25</text>\n",
       "</g>\n",
       "<g clip-path=\"url(#clip1000)\">\n",
       "<text style=\"fill:#000000; fill-opacity:1; font-family:Arial,Helvetica Neue,Helvetica,sans-serif; font-size:84px; text-anchor:middle;\" transform=\"rotate(0, 1253.33, 73.2)\" x=\"1253.33\" y=\"73.2\">Likelihood</text>\n",
       "</g>\n",
       "<polyline clip-path=\"url(#clip1003)\" style=\"stroke:#009af9; stroke-width:4; stroke-opacity:1; fill:none\" points=\"\n",
       "  979.263,1448.82 984.799,1448.82 990.336,1448.82 995.873,1448.82 1001.41,1448.82 1006.95,1448.81 1012.48,1448.8 1018.02,1448.78 1023.56,1448.73 1029.09,1448.65 \n",
       "  1034.63,1448.51 1040.17,1448.3 1045.7,1447.97 1051.24,1447.49 1056.78,1446.81 1062.31,1445.89 1067.85,1444.66 1073.39,1443.05 1078.92,1440.98 1084.46,1438.37 \n",
       "  1090,1435.13 1095.53,1431.16 1101.07,1426.37 1106.61,1420.63 1112.14,1413.85 1117.68,1405.9 1123.22,1396.69 1128.75,1386.09 1134.29,1374 1139.83,1360.32 \n",
       "  1145.36,1344.94 1150.9,1327.77 1156.44,1308.73 1161.97,1287.76 1167.51,1264.79 1173.05,1239.78 1178.58,1212.71 1184.12,1183.57 1189.66,1152.36 1195.19,1119.12 \n",
       "  1200.73,1083.91 1206.27,1046.79 1211.8,1007.86 1217.34,967.26 1222.88,925.123 1228.41,881.625 1233.95,836.963 1239.49,791.355 1245.02,745.045 1250.56,698.3 \n",
       "  1256.1,651.406 1261.63,604.668 1267.17,558.411 1272.71,512.974 1278.24,468.708 1283.78,425.975 1289.32,385.144 1294.85,346.589 1300.39,310.681 1305.93,277.791 \n",
       "  1311.46,248.279 1317,222.495 1322.54,200.773 1328.07,183.424 1333.61,170.735 1339.15,162.963 1344.68,160.33 1350.22,163.017 1355.76,171.163 1361.29,184.858 \n",
       "  1366.83,204.139 1372.36,228.988 1377.9,259.327 1383.44,295.014 1388.97,335.843 1394.51,381.543 1400.05,431.774 1405.58,486.126 1411.12,544.127 1416.66,605.236 \n",
       "  1422.19,668.853 1427.73,734.318 1433.27,800.924 1438.8,867.916 1444.34,934.51 1449.88,999.895 1455.41,1063.26 1460.95,1123.78 1466.49,1180.69 1472.02,1233.24 \n",
       "  1477.56,1280.76 1483.1,1322.7 1488.63,1358.6 1494.17,1388.2 1499.71,1411.41 1505.24,1428.41 1510.78,1439.65 1516.32,1445.93 1521.85,1448.44 1527.39,1448.82 \n",
       "  \n",
       "  \"/>\n",
       "<path clip-path=\"url(#clip1000)\" d=\"\n",
       "M1771.74 1487.47 L2352.76 1487.47 L2352.76 121.675 L1771.74 121.675  Z\n",
       "  \" fill=\"#ffffff\" fill-rule=\"evenodd\" fill-opacity=\"1\"/>\n",
       "<defs>\n",
       "  <clipPath id=\"clip1004\">\n",
       "    <rect x=\"1771\" y=\"121\" width=\"582\" height=\"1367\"/>\n",
       "  </clipPath>\n",
       "</defs>\n",
       "<polyline clip-path=\"url(#clip1004)\" style=\"stroke:#000000; stroke-width:2; stroke-opacity:0.1; fill:none\" points=\"\n",
       "  1788.18,1487.47 1788.18,121.675 \n",
       "  \"/>\n",
       "<polyline clip-path=\"url(#clip1004)\" style=\"stroke:#000000; stroke-width:2; stroke-opacity:0.1; fill:none\" points=\"\n",
       "  1925.22,1487.47 1925.22,121.675 \n",
       "  \"/>\n",
       "<polyline clip-path=\"url(#clip1004)\" style=\"stroke:#000000; stroke-width:2; stroke-opacity:0.1; fill:none\" points=\"\n",
       "  2062.25,1487.47 2062.25,121.675 \n",
       "  \"/>\n",
       "<polyline clip-path=\"url(#clip1004)\" style=\"stroke:#000000; stroke-width:2; stroke-opacity:0.1; fill:none\" points=\"\n",
       "  2199.28,1487.47 2199.28,121.675 \n",
       "  \"/>\n",
       "<polyline clip-path=\"url(#clip1004)\" style=\"stroke:#000000; stroke-width:2; stroke-opacity:0.1; fill:none\" points=\"\n",
       "  2336.31,1487.47 2336.31,121.675 \n",
       "  \"/>\n",
       "<polyline clip-path=\"url(#clip1004)\" style=\"stroke:#000000; stroke-width:2; stroke-opacity:0.1; fill:none\" points=\"\n",
       "  1771.74,1448.82 2352.76,1448.82 \n",
       "  \"/>\n",
       "<polyline clip-path=\"url(#clip1004)\" style=\"stroke:#000000; stroke-width:2; stroke-opacity:0.1; fill:none\" points=\"\n",
       "  1771.74,1065.89 2352.76,1065.89 \n",
       "  \"/>\n",
       "<polyline clip-path=\"url(#clip1004)\" style=\"stroke:#000000; stroke-width:2; stroke-opacity:0.1; fill:none\" points=\"\n",
       "  1771.74,682.965 2352.76,682.965 \n",
       "  \"/>\n",
       "<polyline clip-path=\"url(#clip1004)\" style=\"stroke:#000000; stroke-width:2; stroke-opacity:0.1; fill:none\" points=\"\n",
       "  1771.74,300.038 2352.76,300.038 \n",
       "  \"/>\n",
       "<polyline clip-path=\"url(#clip1000)\" style=\"stroke:#000000; stroke-width:4; stroke-opacity:1; fill:none\" points=\"\n",
       "  1771.74,1487.47 2352.76,1487.47 \n",
       "  \"/>\n",
       "<polyline clip-path=\"url(#clip1000)\" style=\"stroke:#000000; stroke-width:4; stroke-opacity:1; fill:none\" points=\"\n",
       "  1771.74,1487.47 1771.74,121.675 \n",
       "  \"/>\n",
       "<polyline clip-path=\"url(#clip1000)\" style=\"stroke:#000000; stroke-width:4; stroke-opacity:1; fill:none\" points=\"\n",
       "  1788.18,1487.47 1788.18,1466.99 \n",
       "  \"/>\n",
       "<polyline clip-path=\"url(#clip1000)\" style=\"stroke:#000000; stroke-width:4; stroke-opacity:1; fill:none\" points=\"\n",
       "  1925.22,1487.47 1925.22,1466.99 \n",
       "  \"/>\n",
       "<polyline clip-path=\"url(#clip1000)\" style=\"stroke:#000000; stroke-width:4; stroke-opacity:1; fill:none\" points=\"\n",
       "  2062.25,1487.47 2062.25,1466.99 \n",
       "  \"/>\n",
       "<polyline clip-path=\"url(#clip1000)\" style=\"stroke:#000000; stroke-width:4; stroke-opacity:1; fill:none\" points=\"\n",
       "  2199.28,1487.47 2199.28,1466.99 \n",
       "  \"/>\n",
       "<polyline clip-path=\"url(#clip1000)\" style=\"stroke:#000000; stroke-width:4; stroke-opacity:1; fill:none\" points=\"\n",
       "  2336.31,1487.47 2336.31,1466.99 \n",
       "  \"/>\n",
       "<polyline clip-path=\"url(#clip1000)\" style=\"stroke:#000000; stroke-width:4; stroke-opacity:1; fill:none\" points=\"\n",
       "  1771.74,1448.82 1780.45,1448.82 \n",
       "  \"/>\n",
       "<polyline clip-path=\"url(#clip1000)\" style=\"stroke:#000000; stroke-width:4; stroke-opacity:1; fill:none\" points=\"\n",
       "  1771.74,1065.89 1780.45,1065.89 \n",
       "  \"/>\n",
       "<polyline clip-path=\"url(#clip1000)\" style=\"stroke:#000000; stroke-width:4; stroke-opacity:1; fill:none\" points=\"\n",
       "  1771.74,682.965 1780.45,682.965 \n",
       "  \"/>\n",
       "<polyline clip-path=\"url(#clip1000)\" style=\"stroke:#000000; stroke-width:4; stroke-opacity:1; fill:none\" points=\"\n",
       "  1771.74,300.038 1780.45,300.038 \n",
       "  \"/>\n",
       "<g clip-path=\"url(#clip1000)\">\n",
       "<text style=\"fill:#000000; fill-opacity:1; font-family:Arial,Helvetica Neue,Helvetica,sans-serif; font-size:48px; text-anchor:middle;\" transform=\"rotate(0, 1788.18, 1541.47)\" x=\"1788.18\" y=\"1541.47\">0.00</text>\n",
       "</g>\n",
       "<g clip-path=\"url(#clip1000)\">\n",
       "<text style=\"fill:#000000; fill-opacity:1; font-family:Arial,Helvetica Neue,Helvetica,sans-serif; font-size:48px; text-anchor:middle;\" transform=\"rotate(0, 1925.22, 1541.47)\" x=\"1925.22\" y=\"1541.47\">0.25</text>\n",
       "</g>\n",
       "<g clip-path=\"url(#clip1000)\">\n",
       "<text style=\"fill:#000000; fill-opacity:1; font-family:Arial,Helvetica Neue,Helvetica,sans-serif; font-size:48px; text-anchor:middle;\" transform=\"rotate(0, 2062.25, 1541.47)\" x=\"2062.25\" y=\"1541.47\">0.50</text>\n",
       "</g>\n",
       "<g clip-path=\"url(#clip1000)\">\n",
       "<text style=\"fill:#000000; fill-opacity:1; font-family:Arial,Helvetica Neue,Helvetica,sans-serif; font-size:48px; text-anchor:middle;\" transform=\"rotate(0, 2199.28, 1541.47)\" x=\"2199.28\" y=\"1541.47\">0.75</text>\n",
       "</g>\n",
       "<g clip-path=\"url(#clip1000)\">\n",
       "<text style=\"fill:#000000; fill-opacity:1; font-family:Arial,Helvetica Neue,Helvetica,sans-serif; font-size:48px; text-anchor:middle;\" transform=\"rotate(0, 2336.31, 1541.47)\" x=\"2336.31\" y=\"1541.47\">1.00</text>\n",
       "</g>\n",
       "<g clip-path=\"url(#clip1000)\">\n",
       "<text style=\"fill:#000000; fill-opacity:1; font-family:Arial,Helvetica Neue,Helvetica,sans-serif; font-size:48px; text-anchor:end;\" transform=\"rotate(0, 1747.74, 1466.32)\" x=\"1747.74\" y=\"1466.32\">0.00</text>\n",
       "</g>\n",
       "<g clip-path=\"url(#clip1000)\">\n",
       "<text style=\"fill:#000000; fill-opacity:1; font-family:Arial,Helvetica Neue,Helvetica,sans-serif; font-size:48px; text-anchor:end;\" transform=\"rotate(0, 1747.74, 1083.39)\" x=\"1747.74\" y=\"1083.39\">0.01</text>\n",
       "</g>\n",
       "<g clip-path=\"url(#clip1000)\">\n",
       "<text style=\"fill:#000000; fill-opacity:1; font-family:Arial,Helvetica Neue,Helvetica,sans-serif; font-size:48px; text-anchor:end;\" transform=\"rotate(0, 1747.74, 700.465)\" x=\"1747.74\" y=\"700.465\">0.02</text>\n",
       "</g>\n",
       "<g clip-path=\"url(#clip1000)\">\n",
       "<text style=\"fill:#000000; fill-opacity:1; font-family:Arial,Helvetica Neue,Helvetica,sans-serif; font-size:48px; text-anchor:end;\" transform=\"rotate(0, 1747.74, 317.538)\" x=\"1747.74\" y=\"317.538\">0.03</text>\n",
       "</g>\n",
       "<g clip-path=\"url(#clip1000)\">\n",
       "<text style=\"fill:#000000; fill-opacity:1; font-family:Arial,Helvetica Neue,Helvetica,sans-serif; font-size:84px; text-anchor:middle;\" transform=\"rotate(0, 2062.25, 73.2)\" x=\"2062.25\" y=\"73.2\">Posterior</text>\n",
       "</g>\n",
       "<polyline clip-path=\"url(#clip1004)\" style=\"stroke:#009af9; stroke-width:4; stroke-opacity:1; fill:none\" points=\"\n",
       "  1788.18,1448.82 1793.72,1448.82 1799.26,1448.82 1804.79,1448.82 1810.33,1448.82 1815.87,1448.82 1821.4,1448.82 1826.94,1448.81 1832.48,1448.8 1838.01,1448.78 \n",
       "  1843.55,1448.75 1849.09,1448.7 1854.62,1448.61 1860.16,1448.47 1865.7,1448.27 1871.23,1447.98 1876.77,1447.56 1882.31,1446.98 1887.84,1446.2 1893.38,1445.14 \n",
       "  1898.92,1443.75 1904.45,1441.95 1909.99,1439.63 1915.53,1436.68 1921.06,1432.98 1926.6,1428.38 1932.14,1422.7 1937.67,1415.76 1943.21,1407.35 1948.75,1397.22 \n",
       "  1954.28,1385.12 1959.82,1370.74 1965.36,1353.79 1970.89,1333.9 1976.43,1310.71 1981.97,1283.81 1987.5,1252.79 1993.04,1217.18 1998.58,1176.52 2004.11,1130.3 \n",
       "  2009.65,1078.02 2015.19,1019.14 2020.72,953.122 2026.26,879.435 2031.8,797.538 2037.33,706.902 2042.87,607.022 2048.41,497.417 2053.94,377.647 2059.48,247.325 \n",
       "  2065.02,172.252 2070.55,163.988 2076.09,160.33 2081.63,161.276 2087.16,166.786 2092.7,176.784 2098.24,191.156 2103.77,209.755 2109.31,232.403 2114.85,258.891 \n",
       "  2120.38,288.985 2125.92,322.425 2131.46,358.931 2136.99,398.205 2142.53,439.933 2148.07,483.788 2153.6,529.438 2159.14,576.541 2164.68,624.756 2170.21,673.74 \n",
       "  2175.75,723.154 2181.29,772.668 2186.82,821.957 2192.36,870.712 2197.9,918.634 2203.43,965.444 2208.97,1010.88 2214.51,1054.7 2220.04,1096.69 2225.58,1136.64 \n",
       "  2231.12,1174.4 2236.65,1209.81 2242.19,1242.77 2247.73,1273.17 2253.26,1300.97 2258.8,1326.12 2264.34,1348.63 2269.87,1368.52 2275.41,1385.84 2280.95,1400.68 \n",
       "  2286.48,1413.14 2292.02,1423.36 2297.56,1431.5 2303.09,1437.76 2308.63,1442.33 2314.17,1445.45 2319.7,1447.38 2325.24,1448.39 2330.78,1448.77 2336.31,1448.82 \n",
       "  \n",
       "  \"/>\n",
       "</svg>\n"
      ]
     },
     "execution_count": 73,
     "metadata": {},
     "output_type": "execute_result"
    }
   ],
   "source": [
    "prior3 = exp.(-5 * abs.(p_grid .- 0.5))\n",
    "posterior3 = computePosterior(likelihood, prior3)"
   ]
  },
  {
   "cell_type": "code",
   "execution_count": null,
   "metadata": {},
   "outputs": [],
   "source": []
  }
 ],
 "metadata": {
  "kernelspec": {
   "display_name": "Julia 1.2.0",
   "language": "julia",
   "name": "julia-1.2"
  },
  "language_info": {
   "file_extension": ".jl",
   "mimetype": "application/julia",
   "name": "julia",
   "version": "1.2.0"
  }
 },
 "nbformat": 4,
 "nbformat_minor": 2
}
